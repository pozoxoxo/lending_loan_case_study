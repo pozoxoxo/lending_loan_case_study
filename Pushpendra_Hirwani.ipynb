{
 "cells": [
  {
   "cell_type": "markdown",
   "id": "d0eb9531",
   "metadata": {},
   "source": [
    "#### Loading loan Dataset into a dataframe"
   ]
  },
  {
   "cell_type": "code",
   "execution_count": 210,
   "id": "cfb8a824-a141-4bef-814e-bb5b3b7ecdd4",
   "metadata": {},
   "outputs": [],
   "source": [
    "\n",
    "import numpy as np\n",
    "import pandas as pd\n",
    "import warnings\n",
    "warnings.filterwarnings(\"ignore\") "
   ]
  },
  {
   "cell_type": "markdown",
   "id": "39087395",
   "metadata": {},
   "source": [
    "* Load 'loan.csv' into a dataframe"
   ]
  },
  {
   "cell_type": "code",
   "execution_count": 211,
   "id": "4580ff7d",
   "metadata": {},
   "outputs": [
    {
     "data": {
      "text/plain": [
       "(39717, 111)"
      ]
     },
     "execution_count": 211,
     "metadata": {},
     "output_type": "execute_result"
    }
   ],
   "source": [
    "df = pd.read_csv('loan/loan.csv')\n",
    "df.shape"
   ]
  },
  {
   "cell_type": "code",
   "execution_count": 212,
   "id": "46099a3f",
   "metadata": {},
   "outputs": [
    {
     "data": {
      "text/html": [
       "<div>\n",
       "<style scoped>\n",
       "    .dataframe tbody tr th:only-of-type {\n",
       "        vertical-align: middle;\n",
       "    }\n",
       "\n",
       "    .dataframe tbody tr th {\n",
       "        vertical-align: top;\n",
       "    }\n",
       "\n",
       "    .dataframe thead th {\n",
       "        text-align: right;\n",
       "    }\n",
       "</style>\n",
       "<table border=\"1\" class=\"dataframe\">\n",
       "  <thead>\n",
       "    <tr style=\"text-align: right;\">\n",
       "      <th></th>\n",
       "      <th>id</th>\n",
       "      <th>member_id</th>\n",
       "      <th>loan_amnt</th>\n",
       "      <th>funded_amnt</th>\n",
       "      <th>funded_amnt_inv</th>\n",
       "      <th>term</th>\n",
       "      <th>int_rate</th>\n",
       "      <th>installment</th>\n",
       "      <th>grade</th>\n",
       "      <th>sub_grade</th>\n",
       "      <th>emp_title</th>\n",
       "      <th>emp_length</th>\n",
       "      <th>home_ownership</th>\n",
       "      <th>annual_inc</th>\n",
       "      <th>verification_status</th>\n",
       "      <th>issue_d</th>\n",
       "      <th>loan_status</th>\n",
       "      <th>pymnt_plan</th>\n",
       "      <th>url</th>\n",
       "      <th>desc</th>\n",
       "      <th>purpose</th>\n",
       "      <th>title</th>\n",
       "      <th>zip_code</th>\n",
       "      <th>addr_state</th>\n",
       "      <th>dti</th>\n",
       "      <th>delinq_2yrs</th>\n",
       "      <th>earliest_cr_line</th>\n",
       "      <th>inq_last_6mths</th>\n",
       "      <th>mths_since_last_delinq</th>\n",
       "      <th>mths_since_last_record</th>\n",
       "      <th>open_acc</th>\n",
       "      <th>pub_rec</th>\n",
       "      <th>revol_bal</th>\n",
       "      <th>revol_util</th>\n",
       "      <th>total_acc</th>\n",
       "      <th>initial_list_status</th>\n",
       "      <th>out_prncp</th>\n",
       "      <th>out_prncp_inv</th>\n",
       "      <th>total_pymnt</th>\n",
       "      <th>total_pymnt_inv</th>\n",
       "      <th>total_rec_prncp</th>\n",
       "      <th>total_rec_int</th>\n",
       "      <th>total_rec_late_fee</th>\n",
       "      <th>recoveries</th>\n",
       "      <th>collection_recovery_fee</th>\n",
       "      <th>last_pymnt_d</th>\n",
       "      <th>last_pymnt_amnt</th>\n",
       "      <th>next_pymnt_d</th>\n",
       "      <th>last_credit_pull_d</th>\n",
       "      <th>collections_12_mths_ex_med</th>\n",
       "      <th>mths_since_last_major_derog</th>\n",
       "      <th>policy_code</th>\n",
       "      <th>application_type</th>\n",
       "      <th>annual_inc_joint</th>\n",
       "      <th>dti_joint</th>\n",
       "      <th>verification_status_joint</th>\n",
       "      <th>acc_now_delinq</th>\n",
       "      <th>tot_coll_amt</th>\n",
       "      <th>tot_cur_bal</th>\n",
       "      <th>open_acc_6m</th>\n",
       "      <th>open_il_6m</th>\n",
       "      <th>open_il_12m</th>\n",
       "      <th>open_il_24m</th>\n",
       "      <th>mths_since_rcnt_il</th>\n",
       "      <th>total_bal_il</th>\n",
       "      <th>il_util</th>\n",
       "      <th>open_rv_12m</th>\n",
       "      <th>open_rv_24m</th>\n",
       "      <th>max_bal_bc</th>\n",
       "      <th>all_util</th>\n",
       "      <th>total_rev_hi_lim</th>\n",
       "      <th>inq_fi</th>\n",
       "      <th>total_cu_tl</th>\n",
       "      <th>inq_last_12m</th>\n",
       "      <th>acc_open_past_24mths</th>\n",
       "      <th>avg_cur_bal</th>\n",
       "      <th>bc_open_to_buy</th>\n",
       "      <th>bc_util</th>\n",
       "      <th>chargeoff_within_12_mths</th>\n",
       "      <th>delinq_amnt</th>\n",
       "      <th>mo_sin_old_il_acct</th>\n",
       "      <th>mo_sin_old_rev_tl_op</th>\n",
       "      <th>mo_sin_rcnt_rev_tl_op</th>\n",
       "      <th>mo_sin_rcnt_tl</th>\n",
       "      <th>mort_acc</th>\n",
       "      <th>mths_since_recent_bc</th>\n",
       "      <th>mths_since_recent_bc_dlq</th>\n",
       "      <th>mths_since_recent_inq</th>\n",
       "      <th>mths_since_recent_revol_delinq</th>\n",
       "      <th>num_accts_ever_120_pd</th>\n",
       "      <th>num_actv_bc_tl</th>\n",
       "      <th>num_actv_rev_tl</th>\n",
       "      <th>num_bc_sats</th>\n",
       "      <th>num_bc_tl</th>\n",
       "      <th>num_il_tl</th>\n",
       "      <th>num_op_rev_tl</th>\n",
       "      <th>num_rev_accts</th>\n",
       "      <th>num_rev_tl_bal_gt_0</th>\n",
       "      <th>num_sats</th>\n",
       "      <th>num_tl_120dpd_2m</th>\n",
       "      <th>num_tl_30dpd</th>\n",
       "      <th>num_tl_90g_dpd_24m</th>\n",
       "      <th>num_tl_op_past_12m</th>\n",
       "      <th>pct_tl_nvr_dlq</th>\n",
       "      <th>percent_bc_gt_75</th>\n",
       "      <th>pub_rec_bankruptcies</th>\n",
       "      <th>tax_liens</th>\n",
       "      <th>tot_hi_cred_lim</th>\n",
       "      <th>total_bal_ex_mort</th>\n",
       "      <th>total_bc_limit</th>\n",
       "      <th>total_il_high_credit_limit</th>\n",
       "    </tr>\n",
       "  </thead>\n",
       "  <tbody>\n",
       "    <tr>\n",
       "      <th>0</th>\n",
       "      <td>1077501</td>\n",
       "      <td>1296599</td>\n",
       "      <td>5000</td>\n",
       "      <td>5000</td>\n",
       "      <td>4975.0</td>\n",
       "      <td>36 months</td>\n",
       "      <td>10.65%</td>\n",
       "      <td>162.87</td>\n",
       "      <td>B</td>\n",
       "      <td>B2</td>\n",
       "      <td>NaN</td>\n",
       "      <td>10+ years</td>\n",
       "      <td>RENT</td>\n",
       "      <td>24000.0</td>\n",
       "      <td>Verified</td>\n",
       "      <td>Dec-11</td>\n",
       "      <td>Fully Paid</td>\n",
       "      <td>n</td>\n",
       "      <td>https://lendingclub.com/browse/loanDetail.acti...</td>\n",
       "      <td>Borrower added on 12/22/11 &gt; I need to upgra...</td>\n",
       "      <td>credit_card</td>\n",
       "      <td>Computer</td>\n",
       "      <td>860xx</td>\n",
       "      <td>AZ</td>\n",
       "      <td>27.65</td>\n",
       "      <td>0</td>\n",
       "      <td>Jan-85</td>\n",
       "      <td>1</td>\n",
       "      <td>NaN</td>\n",
       "      <td>NaN</td>\n",
       "      <td>3</td>\n",
       "      <td>0</td>\n",
       "      <td>13648</td>\n",
       "      <td>83.70%</td>\n",
       "      <td>9</td>\n",
       "      <td>f</td>\n",
       "      <td>0.00</td>\n",
       "      <td>0.00</td>\n",
       "      <td>5863.155187</td>\n",
       "      <td>5833.84</td>\n",
       "      <td>5000.00</td>\n",
       "      <td>863.16</td>\n",
       "      <td>0.00</td>\n",
       "      <td>0.00</td>\n",
       "      <td>0.00</td>\n",
       "      <td>Jan-15</td>\n",
       "      <td>171.62</td>\n",
       "      <td>NaN</td>\n",
       "      <td>May-16</td>\n",
       "      <td>0.0</td>\n",
       "      <td>NaN</td>\n",
       "      <td>1</td>\n",
       "      <td>INDIVIDUAL</td>\n",
       "      <td>NaN</td>\n",
       "      <td>NaN</td>\n",
       "      <td>NaN</td>\n",
       "      <td>0</td>\n",
       "      <td>NaN</td>\n",
       "      <td>NaN</td>\n",
       "      <td>NaN</td>\n",
       "      <td>NaN</td>\n",
       "      <td>NaN</td>\n",
       "      <td>NaN</td>\n",
       "      <td>NaN</td>\n",
       "      <td>NaN</td>\n",
       "      <td>NaN</td>\n",
       "      <td>NaN</td>\n",
       "      <td>NaN</td>\n",
       "      <td>NaN</td>\n",
       "      <td>NaN</td>\n",
       "      <td>NaN</td>\n",
       "      <td>NaN</td>\n",
       "      <td>NaN</td>\n",
       "      <td>NaN</td>\n",
       "      <td>NaN</td>\n",
       "      <td>NaN</td>\n",
       "      <td>NaN</td>\n",
       "      <td>NaN</td>\n",
       "      <td>0.0</td>\n",
       "      <td>0</td>\n",
       "      <td>NaN</td>\n",
       "      <td>NaN</td>\n",
       "      <td>NaN</td>\n",
       "      <td>NaN</td>\n",
       "      <td>NaN</td>\n",
       "      <td>NaN</td>\n",
       "      <td>NaN</td>\n",
       "      <td>NaN</td>\n",
       "      <td>NaN</td>\n",
       "      <td>NaN</td>\n",
       "      <td>NaN</td>\n",
       "      <td>NaN</td>\n",
       "      <td>NaN</td>\n",
       "      <td>NaN</td>\n",
       "      <td>NaN</td>\n",
       "      <td>NaN</td>\n",
       "      <td>NaN</td>\n",
       "      <td>NaN</td>\n",
       "      <td>NaN</td>\n",
       "      <td>NaN</td>\n",
       "      <td>NaN</td>\n",
       "      <td>NaN</td>\n",
       "      <td>NaN</td>\n",
       "      <td>NaN</td>\n",
       "      <td>NaN</td>\n",
       "      <td>0.0</td>\n",
       "      <td>0.0</td>\n",
       "      <td>NaN</td>\n",
       "      <td>NaN</td>\n",
       "      <td>NaN</td>\n",
       "      <td>NaN</td>\n",
       "    </tr>\n",
       "    <tr>\n",
       "      <th>1</th>\n",
       "      <td>1077430</td>\n",
       "      <td>1314167</td>\n",
       "      <td>2500</td>\n",
       "      <td>2500</td>\n",
       "      <td>2500.0</td>\n",
       "      <td>60 months</td>\n",
       "      <td>15.27%</td>\n",
       "      <td>59.83</td>\n",
       "      <td>C</td>\n",
       "      <td>C4</td>\n",
       "      <td>Ryder</td>\n",
       "      <td>&lt; 1 year</td>\n",
       "      <td>RENT</td>\n",
       "      <td>30000.0</td>\n",
       "      <td>Source Verified</td>\n",
       "      <td>Dec-11</td>\n",
       "      <td>Charged Off</td>\n",
       "      <td>n</td>\n",
       "      <td>https://lendingclub.com/browse/loanDetail.acti...</td>\n",
       "      <td>Borrower added on 12/22/11 &gt; I plan to use t...</td>\n",
       "      <td>car</td>\n",
       "      <td>bike</td>\n",
       "      <td>309xx</td>\n",
       "      <td>GA</td>\n",
       "      <td>1.00</td>\n",
       "      <td>0</td>\n",
       "      <td>Apr-99</td>\n",
       "      <td>5</td>\n",
       "      <td>NaN</td>\n",
       "      <td>NaN</td>\n",
       "      <td>3</td>\n",
       "      <td>0</td>\n",
       "      <td>1687</td>\n",
       "      <td>9.40%</td>\n",
       "      <td>4</td>\n",
       "      <td>f</td>\n",
       "      <td>0.00</td>\n",
       "      <td>0.00</td>\n",
       "      <td>1008.710000</td>\n",
       "      <td>1008.71</td>\n",
       "      <td>456.46</td>\n",
       "      <td>435.17</td>\n",
       "      <td>0.00</td>\n",
       "      <td>117.08</td>\n",
       "      <td>1.11</td>\n",
       "      <td>Apr-13</td>\n",
       "      <td>119.66</td>\n",
       "      <td>NaN</td>\n",
       "      <td>Sep-13</td>\n",
       "      <td>0.0</td>\n",
       "      <td>NaN</td>\n",
       "      <td>1</td>\n",
       "      <td>INDIVIDUAL</td>\n",
       "      <td>NaN</td>\n",
       "      <td>NaN</td>\n",
       "      <td>NaN</td>\n",
       "      <td>0</td>\n",
       "      <td>NaN</td>\n",
       "      <td>NaN</td>\n",
       "      <td>NaN</td>\n",
       "      <td>NaN</td>\n",
       "      <td>NaN</td>\n",
       "      <td>NaN</td>\n",
       "      <td>NaN</td>\n",
       "      <td>NaN</td>\n",
       "      <td>NaN</td>\n",
       "      <td>NaN</td>\n",
       "      <td>NaN</td>\n",
       "      <td>NaN</td>\n",
       "      <td>NaN</td>\n",
       "      <td>NaN</td>\n",
       "      <td>NaN</td>\n",
       "      <td>NaN</td>\n",
       "      <td>NaN</td>\n",
       "      <td>NaN</td>\n",
       "      <td>NaN</td>\n",
       "      <td>NaN</td>\n",
       "      <td>NaN</td>\n",
       "      <td>0.0</td>\n",
       "      <td>0</td>\n",
       "      <td>NaN</td>\n",
       "      <td>NaN</td>\n",
       "      <td>NaN</td>\n",
       "      <td>NaN</td>\n",
       "      <td>NaN</td>\n",
       "      <td>NaN</td>\n",
       "      <td>NaN</td>\n",
       "      <td>NaN</td>\n",
       "      <td>NaN</td>\n",
       "      <td>NaN</td>\n",
       "      <td>NaN</td>\n",
       "      <td>NaN</td>\n",
       "      <td>NaN</td>\n",
       "      <td>NaN</td>\n",
       "      <td>NaN</td>\n",
       "      <td>NaN</td>\n",
       "      <td>NaN</td>\n",
       "      <td>NaN</td>\n",
       "      <td>NaN</td>\n",
       "      <td>NaN</td>\n",
       "      <td>NaN</td>\n",
       "      <td>NaN</td>\n",
       "      <td>NaN</td>\n",
       "      <td>NaN</td>\n",
       "      <td>NaN</td>\n",
       "      <td>0.0</td>\n",
       "      <td>0.0</td>\n",
       "      <td>NaN</td>\n",
       "      <td>NaN</td>\n",
       "      <td>NaN</td>\n",
       "      <td>NaN</td>\n",
       "    </tr>\n",
       "    <tr>\n",
       "      <th>2</th>\n",
       "      <td>1077175</td>\n",
       "      <td>1313524</td>\n",
       "      <td>2400</td>\n",
       "      <td>2400</td>\n",
       "      <td>2400.0</td>\n",
       "      <td>36 months</td>\n",
       "      <td>15.96%</td>\n",
       "      <td>84.33</td>\n",
       "      <td>C</td>\n",
       "      <td>C5</td>\n",
       "      <td>NaN</td>\n",
       "      <td>10+ years</td>\n",
       "      <td>RENT</td>\n",
       "      <td>12252.0</td>\n",
       "      <td>Not Verified</td>\n",
       "      <td>Dec-11</td>\n",
       "      <td>Fully Paid</td>\n",
       "      <td>n</td>\n",
       "      <td>https://lendingclub.com/browse/loanDetail.acti...</td>\n",
       "      <td>NaN</td>\n",
       "      <td>small_business</td>\n",
       "      <td>real estate business</td>\n",
       "      <td>606xx</td>\n",
       "      <td>IL</td>\n",
       "      <td>8.72</td>\n",
       "      <td>0</td>\n",
       "      <td>Nov-01</td>\n",
       "      <td>2</td>\n",
       "      <td>NaN</td>\n",
       "      <td>NaN</td>\n",
       "      <td>2</td>\n",
       "      <td>0</td>\n",
       "      <td>2956</td>\n",
       "      <td>98.50%</td>\n",
       "      <td>10</td>\n",
       "      <td>f</td>\n",
       "      <td>0.00</td>\n",
       "      <td>0.00</td>\n",
       "      <td>3005.666844</td>\n",
       "      <td>3005.67</td>\n",
       "      <td>2400.00</td>\n",
       "      <td>605.67</td>\n",
       "      <td>0.00</td>\n",
       "      <td>0.00</td>\n",
       "      <td>0.00</td>\n",
       "      <td>Jun-14</td>\n",
       "      <td>649.91</td>\n",
       "      <td>NaN</td>\n",
       "      <td>May-16</td>\n",
       "      <td>0.0</td>\n",
       "      <td>NaN</td>\n",
       "      <td>1</td>\n",
       "      <td>INDIVIDUAL</td>\n",
       "      <td>NaN</td>\n",
       "      <td>NaN</td>\n",
       "      <td>NaN</td>\n",
       "      <td>0</td>\n",
       "      <td>NaN</td>\n",
       "      <td>NaN</td>\n",
       "      <td>NaN</td>\n",
       "      <td>NaN</td>\n",
       "      <td>NaN</td>\n",
       "      <td>NaN</td>\n",
       "      <td>NaN</td>\n",
       "      <td>NaN</td>\n",
       "      <td>NaN</td>\n",
       "      <td>NaN</td>\n",
       "      <td>NaN</td>\n",
       "      <td>NaN</td>\n",
       "      <td>NaN</td>\n",
       "      <td>NaN</td>\n",
       "      <td>NaN</td>\n",
       "      <td>NaN</td>\n",
       "      <td>NaN</td>\n",
       "      <td>NaN</td>\n",
       "      <td>NaN</td>\n",
       "      <td>NaN</td>\n",
       "      <td>NaN</td>\n",
       "      <td>0.0</td>\n",
       "      <td>0</td>\n",
       "      <td>NaN</td>\n",
       "      <td>NaN</td>\n",
       "      <td>NaN</td>\n",
       "      <td>NaN</td>\n",
       "      <td>NaN</td>\n",
       "      <td>NaN</td>\n",
       "      <td>NaN</td>\n",
       "      <td>NaN</td>\n",
       "      <td>NaN</td>\n",
       "      <td>NaN</td>\n",
       "      <td>NaN</td>\n",
       "      <td>NaN</td>\n",
       "      <td>NaN</td>\n",
       "      <td>NaN</td>\n",
       "      <td>NaN</td>\n",
       "      <td>NaN</td>\n",
       "      <td>NaN</td>\n",
       "      <td>NaN</td>\n",
       "      <td>NaN</td>\n",
       "      <td>NaN</td>\n",
       "      <td>NaN</td>\n",
       "      <td>NaN</td>\n",
       "      <td>NaN</td>\n",
       "      <td>NaN</td>\n",
       "      <td>NaN</td>\n",
       "      <td>0.0</td>\n",
       "      <td>0.0</td>\n",
       "      <td>NaN</td>\n",
       "      <td>NaN</td>\n",
       "      <td>NaN</td>\n",
       "      <td>NaN</td>\n",
       "    </tr>\n",
       "    <tr>\n",
       "      <th>3</th>\n",
       "      <td>1076863</td>\n",
       "      <td>1277178</td>\n",
       "      <td>10000</td>\n",
       "      <td>10000</td>\n",
       "      <td>10000.0</td>\n",
       "      <td>36 months</td>\n",
       "      <td>13.49%</td>\n",
       "      <td>339.31</td>\n",
       "      <td>C</td>\n",
       "      <td>C1</td>\n",
       "      <td>AIR RESOURCES BOARD</td>\n",
       "      <td>10+ years</td>\n",
       "      <td>RENT</td>\n",
       "      <td>49200.0</td>\n",
       "      <td>Source Verified</td>\n",
       "      <td>Dec-11</td>\n",
       "      <td>Fully Paid</td>\n",
       "      <td>n</td>\n",
       "      <td>https://lendingclub.com/browse/loanDetail.acti...</td>\n",
       "      <td>Borrower added on 12/21/11 &gt; to pay for prop...</td>\n",
       "      <td>other</td>\n",
       "      <td>personel</td>\n",
       "      <td>917xx</td>\n",
       "      <td>CA</td>\n",
       "      <td>20.00</td>\n",
       "      <td>0</td>\n",
       "      <td>Feb-96</td>\n",
       "      <td>1</td>\n",
       "      <td>35.0</td>\n",
       "      <td>NaN</td>\n",
       "      <td>10</td>\n",
       "      <td>0</td>\n",
       "      <td>5598</td>\n",
       "      <td>21%</td>\n",
       "      <td>37</td>\n",
       "      <td>f</td>\n",
       "      <td>0.00</td>\n",
       "      <td>0.00</td>\n",
       "      <td>12231.890000</td>\n",
       "      <td>12231.89</td>\n",
       "      <td>10000.00</td>\n",
       "      <td>2214.92</td>\n",
       "      <td>16.97</td>\n",
       "      <td>0.00</td>\n",
       "      <td>0.00</td>\n",
       "      <td>Jan-15</td>\n",
       "      <td>357.48</td>\n",
       "      <td>NaN</td>\n",
       "      <td>Apr-16</td>\n",
       "      <td>0.0</td>\n",
       "      <td>NaN</td>\n",
       "      <td>1</td>\n",
       "      <td>INDIVIDUAL</td>\n",
       "      <td>NaN</td>\n",
       "      <td>NaN</td>\n",
       "      <td>NaN</td>\n",
       "      <td>0</td>\n",
       "      <td>NaN</td>\n",
       "      <td>NaN</td>\n",
       "      <td>NaN</td>\n",
       "      <td>NaN</td>\n",
       "      <td>NaN</td>\n",
       "      <td>NaN</td>\n",
       "      <td>NaN</td>\n",
       "      <td>NaN</td>\n",
       "      <td>NaN</td>\n",
       "      <td>NaN</td>\n",
       "      <td>NaN</td>\n",
       "      <td>NaN</td>\n",
       "      <td>NaN</td>\n",
       "      <td>NaN</td>\n",
       "      <td>NaN</td>\n",
       "      <td>NaN</td>\n",
       "      <td>NaN</td>\n",
       "      <td>NaN</td>\n",
       "      <td>NaN</td>\n",
       "      <td>NaN</td>\n",
       "      <td>NaN</td>\n",
       "      <td>0.0</td>\n",
       "      <td>0</td>\n",
       "      <td>NaN</td>\n",
       "      <td>NaN</td>\n",
       "      <td>NaN</td>\n",
       "      <td>NaN</td>\n",
       "      <td>NaN</td>\n",
       "      <td>NaN</td>\n",
       "      <td>NaN</td>\n",
       "      <td>NaN</td>\n",
       "      <td>NaN</td>\n",
       "      <td>NaN</td>\n",
       "      <td>NaN</td>\n",
       "      <td>NaN</td>\n",
       "      <td>NaN</td>\n",
       "      <td>NaN</td>\n",
       "      <td>NaN</td>\n",
       "      <td>NaN</td>\n",
       "      <td>NaN</td>\n",
       "      <td>NaN</td>\n",
       "      <td>NaN</td>\n",
       "      <td>NaN</td>\n",
       "      <td>NaN</td>\n",
       "      <td>NaN</td>\n",
       "      <td>NaN</td>\n",
       "      <td>NaN</td>\n",
       "      <td>NaN</td>\n",
       "      <td>0.0</td>\n",
       "      <td>0.0</td>\n",
       "      <td>NaN</td>\n",
       "      <td>NaN</td>\n",
       "      <td>NaN</td>\n",
       "      <td>NaN</td>\n",
       "    </tr>\n",
       "    <tr>\n",
       "      <th>4</th>\n",
       "      <td>1075358</td>\n",
       "      <td>1311748</td>\n",
       "      <td>3000</td>\n",
       "      <td>3000</td>\n",
       "      <td>3000.0</td>\n",
       "      <td>60 months</td>\n",
       "      <td>12.69%</td>\n",
       "      <td>67.79</td>\n",
       "      <td>B</td>\n",
       "      <td>B5</td>\n",
       "      <td>University Medical Group</td>\n",
       "      <td>1 year</td>\n",
       "      <td>RENT</td>\n",
       "      <td>80000.0</td>\n",
       "      <td>Source Verified</td>\n",
       "      <td>Dec-11</td>\n",
       "      <td>Current</td>\n",
       "      <td>n</td>\n",
       "      <td>https://lendingclub.com/browse/loanDetail.acti...</td>\n",
       "      <td>Borrower added on 12/21/11 &gt; I plan on combi...</td>\n",
       "      <td>other</td>\n",
       "      <td>Personal</td>\n",
       "      <td>972xx</td>\n",
       "      <td>OR</td>\n",
       "      <td>17.94</td>\n",
       "      <td>0</td>\n",
       "      <td>Jan-96</td>\n",
       "      <td>0</td>\n",
       "      <td>38.0</td>\n",
       "      <td>NaN</td>\n",
       "      <td>15</td>\n",
       "      <td>0</td>\n",
       "      <td>27783</td>\n",
       "      <td>53.90%</td>\n",
       "      <td>38</td>\n",
       "      <td>f</td>\n",
       "      <td>524.06</td>\n",
       "      <td>524.06</td>\n",
       "      <td>3513.330000</td>\n",
       "      <td>3513.33</td>\n",
       "      <td>2475.94</td>\n",
       "      <td>1037.39</td>\n",
       "      <td>0.00</td>\n",
       "      <td>0.00</td>\n",
       "      <td>0.00</td>\n",
       "      <td>May-16</td>\n",
       "      <td>67.79</td>\n",
       "      <td>Jun-16</td>\n",
       "      <td>May-16</td>\n",
       "      <td>0.0</td>\n",
       "      <td>NaN</td>\n",
       "      <td>1</td>\n",
       "      <td>INDIVIDUAL</td>\n",
       "      <td>NaN</td>\n",
       "      <td>NaN</td>\n",
       "      <td>NaN</td>\n",
       "      <td>0</td>\n",
       "      <td>NaN</td>\n",
       "      <td>NaN</td>\n",
       "      <td>NaN</td>\n",
       "      <td>NaN</td>\n",
       "      <td>NaN</td>\n",
       "      <td>NaN</td>\n",
       "      <td>NaN</td>\n",
       "      <td>NaN</td>\n",
       "      <td>NaN</td>\n",
       "      <td>NaN</td>\n",
       "      <td>NaN</td>\n",
       "      <td>NaN</td>\n",
       "      <td>NaN</td>\n",
       "      <td>NaN</td>\n",
       "      <td>NaN</td>\n",
       "      <td>NaN</td>\n",
       "      <td>NaN</td>\n",
       "      <td>NaN</td>\n",
       "      <td>NaN</td>\n",
       "      <td>NaN</td>\n",
       "      <td>NaN</td>\n",
       "      <td>0.0</td>\n",
       "      <td>0</td>\n",
       "      <td>NaN</td>\n",
       "      <td>NaN</td>\n",
       "      <td>NaN</td>\n",
       "      <td>NaN</td>\n",
       "      <td>NaN</td>\n",
       "      <td>NaN</td>\n",
       "      <td>NaN</td>\n",
       "      <td>NaN</td>\n",
       "      <td>NaN</td>\n",
       "      <td>NaN</td>\n",
       "      <td>NaN</td>\n",
       "      <td>NaN</td>\n",
       "      <td>NaN</td>\n",
       "      <td>NaN</td>\n",
       "      <td>NaN</td>\n",
       "      <td>NaN</td>\n",
       "      <td>NaN</td>\n",
       "      <td>NaN</td>\n",
       "      <td>NaN</td>\n",
       "      <td>NaN</td>\n",
       "      <td>NaN</td>\n",
       "      <td>NaN</td>\n",
       "      <td>NaN</td>\n",
       "      <td>NaN</td>\n",
       "      <td>NaN</td>\n",
       "      <td>0.0</td>\n",
       "      <td>0.0</td>\n",
       "      <td>NaN</td>\n",
       "      <td>NaN</td>\n",
       "      <td>NaN</td>\n",
       "      <td>NaN</td>\n",
       "    </tr>\n",
       "  </tbody>\n",
       "</table>\n",
       "</div>"
      ],
      "text/plain": [
       "        id  member_id  loan_amnt  funded_amnt  funded_amnt_inv        term  \\\n",
       "0  1077501    1296599       5000         5000           4975.0   36 months   \n",
       "1  1077430    1314167       2500         2500           2500.0   60 months   \n",
       "2  1077175    1313524       2400         2400           2400.0   36 months   \n",
       "3  1076863    1277178      10000        10000          10000.0   36 months   \n",
       "4  1075358    1311748       3000         3000           3000.0   60 months   \n",
       "\n",
       "  int_rate  installment grade sub_grade                 emp_title emp_length  \\\n",
       "0   10.65%       162.87     B        B2                       NaN  10+ years   \n",
       "1   15.27%        59.83     C        C4                     Ryder   < 1 year   \n",
       "2   15.96%        84.33     C        C5                       NaN  10+ years   \n",
       "3   13.49%       339.31     C        C1       AIR RESOURCES BOARD  10+ years   \n",
       "4   12.69%        67.79     B        B5  University Medical Group     1 year   \n",
       "\n",
       "  home_ownership  annual_inc verification_status issue_d  loan_status  \\\n",
       "0           RENT     24000.0            Verified  Dec-11   Fully Paid   \n",
       "1           RENT     30000.0     Source Verified  Dec-11  Charged Off   \n",
       "2           RENT     12252.0        Not Verified  Dec-11   Fully Paid   \n",
       "3           RENT     49200.0     Source Verified  Dec-11   Fully Paid   \n",
       "4           RENT     80000.0     Source Verified  Dec-11      Current   \n",
       "\n",
       "  pymnt_plan                                                url  \\\n",
       "0          n  https://lendingclub.com/browse/loanDetail.acti...   \n",
       "1          n  https://lendingclub.com/browse/loanDetail.acti...   \n",
       "2          n  https://lendingclub.com/browse/loanDetail.acti...   \n",
       "3          n  https://lendingclub.com/browse/loanDetail.acti...   \n",
       "4          n  https://lendingclub.com/browse/loanDetail.acti...   \n",
       "\n",
       "                                                desc         purpose  \\\n",
       "0    Borrower added on 12/22/11 > I need to upgra...     credit_card   \n",
       "1    Borrower added on 12/22/11 > I plan to use t...             car   \n",
       "2                                                NaN  small_business   \n",
       "3    Borrower added on 12/21/11 > to pay for prop...           other   \n",
       "4    Borrower added on 12/21/11 > I plan on combi...           other   \n",
       "\n",
       "                  title zip_code addr_state    dti  delinq_2yrs  \\\n",
       "0              Computer    860xx         AZ  27.65            0   \n",
       "1                  bike    309xx         GA   1.00            0   \n",
       "2  real estate business    606xx         IL   8.72            0   \n",
       "3              personel    917xx         CA  20.00            0   \n",
       "4              Personal    972xx         OR  17.94            0   \n",
       "\n",
       "  earliest_cr_line  inq_last_6mths  mths_since_last_delinq  \\\n",
       "0           Jan-85               1                     NaN   \n",
       "1           Apr-99               5                     NaN   \n",
       "2           Nov-01               2                     NaN   \n",
       "3           Feb-96               1                    35.0   \n",
       "4           Jan-96               0                    38.0   \n",
       "\n",
       "   mths_since_last_record  open_acc  pub_rec  revol_bal revol_util  total_acc  \\\n",
       "0                     NaN         3        0      13648     83.70%          9   \n",
       "1                     NaN         3        0       1687      9.40%          4   \n",
       "2                     NaN         2        0       2956     98.50%         10   \n",
       "3                     NaN        10        0       5598        21%         37   \n",
       "4                     NaN        15        0      27783     53.90%         38   \n",
       "\n",
       "  initial_list_status  out_prncp  out_prncp_inv   total_pymnt  \\\n",
       "0                   f       0.00           0.00   5863.155187   \n",
       "1                   f       0.00           0.00   1008.710000   \n",
       "2                   f       0.00           0.00   3005.666844   \n",
       "3                   f       0.00           0.00  12231.890000   \n",
       "4                   f     524.06         524.06   3513.330000   \n",
       "\n",
       "   total_pymnt_inv  total_rec_prncp  total_rec_int  total_rec_late_fee  \\\n",
       "0          5833.84          5000.00         863.16                0.00   \n",
       "1          1008.71           456.46         435.17                0.00   \n",
       "2          3005.67          2400.00         605.67                0.00   \n",
       "3         12231.89         10000.00        2214.92               16.97   \n",
       "4          3513.33          2475.94        1037.39                0.00   \n",
       "\n",
       "   recoveries  collection_recovery_fee last_pymnt_d  last_pymnt_amnt  \\\n",
       "0        0.00                     0.00       Jan-15           171.62   \n",
       "1      117.08                     1.11       Apr-13           119.66   \n",
       "2        0.00                     0.00       Jun-14           649.91   \n",
       "3        0.00                     0.00       Jan-15           357.48   \n",
       "4        0.00                     0.00       May-16            67.79   \n",
       "\n",
       "  next_pymnt_d last_credit_pull_d  collections_12_mths_ex_med  \\\n",
       "0          NaN             May-16                         0.0   \n",
       "1          NaN             Sep-13                         0.0   \n",
       "2          NaN             May-16                         0.0   \n",
       "3          NaN             Apr-16                         0.0   \n",
       "4       Jun-16             May-16                         0.0   \n",
       "\n",
       "   mths_since_last_major_derog  policy_code application_type  \\\n",
       "0                          NaN            1       INDIVIDUAL   \n",
       "1                          NaN            1       INDIVIDUAL   \n",
       "2                          NaN            1       INDIVIDUAL   \n",
       "3                          NaN            1       INDIVIDUAL   \n",
       "4                          NaN            1       INDIVIDUAL   \n",
       "\n",
       "   annual_inc_joint  dti_joint  verification_status_joint  acc_now_delinq  \\\n",
       "0               NaN        NaN                        NaN               0   \n",
       "1               NaN        NaN                        NaN               0   \n",
       "2               NaN        NaN                        NaN               0   \n",
       "3               NaN        NaN                        NaN               0   \n",
       "4               NaN        NaN                        NaN               0   \n",
       "\n",
       "   tot_coll_amt  tot_cur_bal  open_acc_6m  open_il_6m  open_il_12m  \\\n",
       "0           NaN          NaN          NaN         NaN          NaN   \n",
       "1           NaN          NaN          NaN         NaN          NaN   \n",
       "2           NaN          NaN          NaN         NaN          NaN   \n",
       "3           NaN          NaN          NaN         NaN          NaN   \n",
       "4           NaN          NaN          NaN         NaN          NaN   \n",
       "\n",
       "   open_il_24m  mths_since_rcnt_il  total_bal_il  il_util  open_rv_12m  \\\n",
       "0          NaN                 NaN           NaN      NaN          NaN   \n",
       "1          NaN                 NaN           NaN      NaN          NaN   \n",
       "2          NaN                 NaN           NaN      NaN          NaN   \n",
       "3          NaN                 NaN           NaN      NaN          NaN   \n",
       "4          NaN                 NaN           NaN      NaN          NaN   \n",
       "\n",
       "   open_rv_24m  max_bal_bc  all_util  total_rev_hi_lim  inq_fi  total_cu_tl  \\\n",
       "0          NaN         NaN       NaN               NaN     NaN          NaN   \n",
       "1          NaN         NaN       NaN               NaN     NaN          NaN   \n",
       "2          NaN         NaN       NaN               NaN     NaN          NaN   \n",
       "3          NaN         NaN       NaN               NaN     NaN          NaN   \n",
       "4          NaN         NaN       NaN               NaN     NaN          NaN   \n",
       "\n",
       "   inq_last_12m  acc_open_past_24mths  avg_cur_bal  bc_open_to_buy  bc_util  \\\n",
       "0           NaN                   NaN          NaN             NaN      NaN   \n",
       "1           NaN                   NaN          NaN             NaN      NaN   \n",
       "2           NaN                   NaN          NaN             NaN      NaN   \n",
       "3           NaN                   NaN          NaN             NaN      NaN   \n",
       "4           NaN                   NaN          NaN             NaN      NaN   \n",
       "\n",
       "   chargeoff_within_12_mths  delinq_amnt  mo_sin_old_il_acct  \\\n",
       "0                       0.0            0                 NaN   \n",
       "1                       0.0            0                 NaN   \n",
       "2                       0.0            0                 NaN   \n",
       "3                       0.0            0                 NaN   \n",
       "4                       0.0            0                 NaN   \n",
       "\n",
       "   mo_sin_old_rev_tl_op  mo_sin_rcnt_rev_tl_op  mo_sin_rcnt_tl  mort_acc  \\\n",
       "0                   NaN                    NaN             NaN       NaN   \n",
       "1                   NaN                    NaN             NaN       NaN   \n",
       "2                   NaN                    NaN             NaN       NaN   \n",
       "3                   NaN                    NaN             NaN       NaN   \n",
       "4                   NaN                    NaN             NaN       NaN   \n",
       "\n",
       "   mths_since_recent_bc  mths_since_recent_bc_dlq  mths_since_recent_inq  \\\n",
       "0                   NaN                       NaN                    NaN   \n",
       "1                   NaN                       NaN                    NaN   \n",
       "2                   NaN                       NaN                    NaN   \n",
       "3                   NaN                       NaN                    NaN   \n",
       "4                   NaN                       NaN                    NaN   \n",
       "\n",
       "   mths_since_recent_revol_delinq  num_accts_ever_120_pd  num_actv_bc_tl  \\\n",
       "0                             NaN                    NaN             NaN   \n",
       "1                             NaN                    NaN             NaN   \n",
       "2                             NaN                    NaN             NaN   \n",
       "3                             NaN                    NaN             NaN   \n",
       "4                             NaN                    NaN             NaN   \n",
       "\n",
       "   num_actv_rev_tl  num_bc_sats  num_bc_tl  num_il_tl  num_op_rev_tl  \\\n",
       "0              NaN          NaN        NaN        NaN            NaN   \n",
       "1              NaN          NaN        NaN        NaN            NaN   \n",
       "2              NaN          NaN        NaN        NaN            NaN   \n",
       "3              NaN          NaN        NaN        NaN            NaN   \n",
       "4              NaN          NaN        NaN        NaN            NaN   \n",
       "\n",
       "   num_rev_accts  num_rev_tl_bal_gt_0  num_sats  num_tl_120dpd_2m  \\\n",
       "0            NaN                  NaN       NaN               NaN   \n",
       "1            NaN                  NaN       NaN               NaN   \n",
       "2            NaN                  NaN       NaN               NaN   \n",
       "3            NaN                  NaN       NaN               NaN   \n",
       "4            NaN                  NaN       NaN               NaN   \n",
       "\n",
       "   num_tl_30dpd  num_tl_90g_dpd_24m  num_tl_op_past_12m  pct_tl_nvr_dlq  \\\n",
       "0           NaN                 NaN                 NaN             NaN   \n",
       "1           NaN                 NaN                 NaN             NaN   \n",
       "2           NaN                 NaN                 NaN             NaN   \n",
       "3           NaN                 NaN                 NaN             NaN   \n",
       "4           NaN                 NaN                 NaN             NaN   \n",
       "\n",
       "   percent_bc_gt_75  pub_rec_bankruptcies  tax_liens  tot_hi_cred_lim  \\\n",
       "0               NaN                   0.0        0.0              NaN   \n",
       "1               NaN                   0.0        0.0              NaN   \n",
       "2               NaN                   0.0        0.0              NaN   \n",
       "3               NaN                   0.0        0.0              NaN   \n",
       "4               NaN                   0.0        0.0              NaN   \n",
       "\n",
       "   total_bal_ex_mort  total_bc_limit  total_il_high_credit_limit  \n",
       "0                NaN             NaN                         NaN  \n",
       "1                NaN             NaN                         NaN  \n",
       "2                NaN             NaN                         NaN  \n",
       "3                NaN             NaN                         NaN  \n",
       "4                NaN             NaN                         NaN  "
      ]
     },
     "execution_count": 212,
     "metadata": {},
     "output_type": "execute_result"
    }
   ],
   "source": [
    "# As this dataset has 111 columns resetting max_columns to be displayed as 150\n",
    "pd.set_option('display.max_columns', 150)\n",
    "pd.set_option('display.max_rows', 200)\n",
    "df.head(5)"
   ]
  },
  {
   "cell_type": "markdown",
   "id": "f11cf137",
   "metadata": {},
   "source": [
    "## Clean Data"
   ]
  },
  {
   "cell_type": "code",
   "execution_count": 213,
   "id": "4015b48a",
   "metadata": {},
   "outputs": [
    {
     "name": "stdout",
     "output_type": "stream",
     "text": [
      "['mths_since_last_major_derog', 'annual_inc_joint', 'dti_joint', 'verification_status_joint', 'tot_coll_amt', 'tot_cur_bal', 'open_acc_6m', 'open_il_6m', 'open_il_12m', 'open_il_24m', 'mths_since_rcnt_il', 'total_bal_il', 'il_util', 'open_rv_12m', 'open_rv_24m', 'max_bal_bc', 'all_util', 'total_rev_hi_lim', 'inq_fi', 'total_cu_tl', 'inq_last_12m', 'acc_open_past_24mths', 'avg_cur_bal', 'bc_open_to_buy', 'bc_util', 'mo_sin_old_il_acct', 'mo_sin_old_rev_tl_op', 'mo_sin_rcnt_rev_tl_op', 'mo_sin_rcnt_tl', 'mort_acc', 'mths_since_recent_bc', 'mths_since_recent_bc_dlq', 'mths_since_recent_inq', 'mths_since_recent_revol_delinq', 'num_accts_ever_120_pd', 'num_actv_bc_tl', 'num_actv_rev_tl', 'num_bc_sats', 'num_bc_tl', 'num_il_tl', 'num_op_rev_tl', 'num_rev_accts', 'num_rev_tl_bal_gt_0', 'num_sats', 'num_tl_120dpd_2m', 'num_tl_30dpd', 'num_tl_90g_dpd_24m', 'num_tl_op_past_12m', 'pct_tl_nvr_dlq', 'percent_bc_gt_75', 'tot_hi_cred_lim', 'total_bal_ex_mort', 'total_bc_limit', 'total_il_high_credit_limit']\n"
     ]
    },
    {
     "data": {
      "text/plain": [
       "54"
      ]
     },
     "execution_count": 213,
     "metadata": {},
     "output_type": "execute_result"
    }
   ],
   "source": [
    "## Determine cols having all null values\n",
    "cols_having_all_nulls = [col for col in df.columns if df[col].isna().sum() == len(df)]\n",
    "print(cols_having_all_nulls)\n",
    "len(cols_having_all_nulls)"
   ]
  },
  {
   "cell_type": "code",
   "execution_count": 214,
   "id": "f57f0dbc",
   "metadata": {},
   "outputs": [
    {
     "data": {
      "text/plain": [
       "(39717, 57)"
      ]
     },
     "execution_count": 214,
     "metadata": {},
     "output_type": "execute_result"
    }
   ],
   "source": [
    "## Drop all cols determined above\n",
    "df = df.drop(cols_having_all_nulls, axis=1)\n",
    "df.shape"
   ]
  },
  {
   "cell_type": "code",
   "execution_count": 215,
   "id": "eb2c8cf3",
   "metadata": {},
   "outputs": [
    {
     "name": "stdout",
     "output_type": "stream",
     "text": [
      "<class 'pandas.core.frame.DataFrame'>\n",
      "RangeIndex: 39717 entries, 0 to 39716\n",
      "Data columns (total 57 columns):\n",
      " #   Column                      Non-Null Count  Dtype  \n",
      "---  ------                      --------------  -----  \n",
      " 0   id                          39717 non-null  int64  \n",
      " 1   member_id                   39717 non-null  int64  \n",
      " 2   loan_amnt                   39717 non-null  int64  \n",
      " 3   funded_amnt                 39717 non-null  int64  \n",
      " 4   funded_amnt_inv             39717 non-null  float64\n",
      " 5   term                        39717 non-null  object \n",
      " 6   int_rate                    39717 non-null  object \n",
      " 7   installment                 39717 non-null  float64\n",
      " 8   grade                       39717 non-null  object \n",
      " 9   sub_grade                   39717 non-null  object \n",
      " 10  emp_title                   37258 non-null  object \n",
      " 11  emp_length                  38642 non-null  object \n",
      " 12  home_ownership              39717 non-null  object \n",
      " 13  annual_inc                  39717 non-null  float64\n",
      " 14  verification_status         39717 non-null  object \n",
      " 15  issue_d                     39717 non-null  object \n",
      " 16  loan_status                 39717 non-null  object \n",
      " 17  pymnt_plan                  39717 non-null  object \n",
      " 18  url                         39717 non-null  object \n",
      " 19  desc                        26777 non-null  object \n",
      " 20  purpose                     39717 non-null  object \n",
      " 21  title                       39706 non-null  object \n",
      " 22  zip_code                    39717 non-null  object \n",
      " 23  addr_state                  39717 non-null  object \n",
      " 24  dti                         39717 non-null  float64\n",
      " 25  delinq_2yrs                 39717 non-null  int64  \n",
      " 26  earliest_cr_line            39717 non-null  object \n",
      " 27  inq_last_6mths              39717 non-null  int64  \n",
      " 28  mths_since_last_delinq      14035 non-null  float64\n",
      " 29  mths_since_last_record      2786 non-null   float64\n",
      " 30  open_acc                    39717 non-null  int64  \n",
      " 31  pub_rec                     39717 non-null  int64  \n",
      " 32  revol_bal                   39717 non-null  int64  \n",
      " 33  revol_util                  39667 non-null  object \n",
      " 34  total_acc                   39717 non-null  int64  \n",
      " 35  initial_list_status         39717 non-null  object \n",
      " 36  out_prncp                   39717 non-null  float64\n",
      " 37  out_prncp_inv               39717 non-null  float64\n",
      " 38  total_pymnt                 39717 non-null  float64\n",
      " 39  total_pymnt_inv             39717 non-null  float64\n",
      " 40  total_rec_prncp             39717 non-null  float64\n",
      " 41  total_rec_int               39717 non-null  float64\n",
      " 42  total_rec_late_fee          39717 non-null  float64\n",
      " 43  recoveries                  39717 non-null  float64\n",
      " 44  collection_recovery_fee     39717 non-null  float64\n",
      " 45  last_pymnt_d                39646 non-null  object \n",
      " 46  last_pymnt_amnt             39717 non-null  float64\n",
      " 47  next_pymnt_d                1140 non-null   object \n",
      " 48  last_credit_pull_d          39715 non-null  object \n",
      " 49  collections_12_mths_ex_med  39661 non-null  float64\n",
      " 50  policy_code                 39717 non-null  int64  \n",
      " 51  application_type            39717 non-null  object \n",
      " 52  acc_now_delinq              39717 non-null  int64  \n",
      " 53  chargeoff_within_12_mths    39661 non-null  float64\n",
      " 54  delinq_amnt                 39717 non-null  int64  \n",
      " 55  pub_rec_bankruptcies        39020 non-null  float64\n",
      " 56  tax_liens                   39678 non-null  float64\n",
      "dtypes: float64(20), int64(13), object(24)\n",
      "memory usage: 17.3+ MB\n"
     ]
    }
   ],
   "source": [
    "df.info()\n",
    "# Initial look at the dataset there are approximately 24 columns with object type\n",
    "# Will need to verify the if object type columns need a datatype correction"
   ]
  },
  {
   "cell_type": "markdown",
   "id": "64526ae9",
   "metadata": {},
   "source": [
    "#### As there are 39717 rows, For columns where the amount of the null/NAN values are insignificant, simply remove those rows having these columns values as null/NAN\n"
   ]
  },
  {
   "cell_type": "code",
   "execution_count": 216,
   "id": "ef60d59a",
   "metadata": {},
   "outputs": [
    {
     "data": {
      "text/plain": [
       "id                                0\n",
       "member_id                         0\n",
       "loan_amnt                         0\n",
       "funded_amnt                       0\n",
       "funded_amnt_inv                   0\n",
       "term                              0\n",
       "int_rate                          0\n",
       "installment                       0\n",
       "grade                             0\n",
       "sub_grade                         0\n",
       "emp_title                         0\n",
       "emp_length                        0\n",
       "home_ownership                    0\n",
       "annual_inc                        0\n",
       "verification_status               0\n",
       "issue_d                           0\n",
       "loan_status                       0\n",
       "pymnt_plan                        0\n",
       "url                               0\n",
       "desc                          12025\n",
       "purpose                           0\n",
       "title                             0\n",
       "zip_code                          0\n",
       "addr_state                        0\n",
       "dti                               0\n",
       "delinq_2yrs                       0\n",
       "earliest_cr_line                  0\n",
       "inq_last_6mths                    0\n",
       "mths_since_last_delinq        23934\n",
       "mths_since_last_record        34543\n",
       "open_acc                          0\n",
       "pub_rec                           0\n",
       "revol_bal                         0\n",
       "revol_util                        0\n",
       "total_acc                         0\n",
       "initial_list_status               0\n",
       "out_prncp                         0\n",
       "out_prncp_inv                     0\n",
       "total_pymnt                       0\n",
       "total_pymnt_inv                   0\n",
       "total_rec_prncp                   0\n",
       "total_rec_int                     0\n",
       "total_rec_late_fee                0\n",
       "recoveries                        0\n",
       "collection_recovery_fee           0\n",
       "last_pymnt_d                      0\n",
       "last_pymnt_amnt                   0\n",
       "next_pymnt_d                  35365\n",
       "last_credit_pull_d                0\n",
       "collections_12_mths_ex_med        0\n",
       "policy_code                       0\n",
       "application_type                  0\n",
       "acc_now_delinq                    0\n",
       "chargeoff_within_12_mths          0\n",
       "delinq_amnt                       0\n",
       "pub_rec_bankruptcies              0\n",
       "tax_liens                         0\n",
       "dtype: int64"
      ]
     },
     "execution_count": 216,
     "metadata": {},
     "output_type": "execute_result"
    }
   ],
   "source": [
    "# Drop rows where the number of null values are insignificant\n",
    "df = df[~df.chargeoff_within_12_mths.isna()]\n",
    "df = df[~df.last_credit_pull_d.isna()]\n",
    "df = df[~df.tax_liens.isna()]\n",
    "df = df[~df.collections_12_mths_ex_med.isna()]\n",
    "df = df[~df.revol_util.isna()]\n",
    "df = df[~df.last_pymnt_d.isna()]\n",
    "df = df[~df.pub_rec_bankruptcies.isna()]\n",
    "df = df[~df.title.isna()]\n",
    "df = df[~df.emp_title.isna()]\n",
    "df = df[~df.emp_length.isna()]\n",
    "df.shape\n",
    "df.isna().sum()"
   ]
  },
  {
   "cell_type": "markdown",
   "id": "f7a0ab35",
   "metadata": {},
   "source": [
    "###  ***Drop un-required and unique Columns***\n",
    "* Determine columns to be dropped:\n",
    "    * next_pymnt_d as more than 90% of the values seems to NAN\n",
    "    * mths_since_last_record as it has as more than 90% of the values seems to NAN"
   ]
  },
  {
   "cell_type": "code",
   "execution_count": 217,
   "id": "7426f0d8",
   "metadata": {},
   "outputs": [],
   "source": [
    "def drop_cols():\n",
    "    # Dropping next_pymnt_d and mths_since_last_record as they are having more than 90$ values as NAN\n",
    "    del df['next_pymnt_d']\n",
    "    del df['mths_since_last_record']\n",
    "    # Dropping purpose, desc, title as they dont really contribute to the EDA\n",
    "    del df['purpose']\n",
    "    del df['desc']\n",
    "    del df['title']\n",
    "\n",
    "drop_cols()"
   ]
  },
  {
   "cell_type": "code",
   "execution_count": 218,
   "id": "67518b69",
   "metadata": {},
   "outputs": [
    {
     "name": "stdout",
     "output_type": "stream",
     "text": [
      "Columns having all unique :  ['id', 'member_id', 'url']\n",
      "Columns having only 1 unique values:  ['pymnt_plan', 'initial_list_status', 'collections_12_mths_ex_med', 'policy_code', 'application_type', 'acc_now_delinq', 'chargeoff_within_12_mths', 'delinq_amnt', 'tax_liens']\n"
     ]
    }
   ],
   "source": [
    "# Determines and drops columns which have all unique values\n",
    "def drop_unique_cols():\n",
    "    uniq_cols = [col for col in df.columns if df[col].nunique() == len(df.index)]\n",
    "    print(\"Columns having all unique : \", uniq_cols)\n",
    "    for cols in uniq_cols:\n",
    "        del df[cols]\n",
    "\n",
    "# Determines and drops columns having only 1 unique value\n",
    "def drop_cols_having_only_1_unqiue_value():\n",
    "    cols_having_only_1_unqiue_value = [col for col in df.columns if df[col].nunique() == 1]\n",
    "    print(\"Columns having only 1 unique values: \", cols_having_only_1_unqiue_value)\n",
    "    for cols in cols_having_only_1_unqiue_value:\n",
    "        del df[cols]\n",
    "\n",
    "drop_unique_cols()\n",
    "drop_cols_having_only_1_unqiue_value()"
   ]
  },
  {
   "cell_type": "code",
   "execution_count": 219,
   "id": "641dc8b5",
   "metadata": {},
   "outputs": [
    {
     "data": {
      "text/plain": [
       "count    36431.000000\n",
       "mean        35.723587\n",
       "std         12.565155\n",
       "min          0.000000\n",
       "25%         35.000000\n",
       "50%         35.000000\n",
       "75%         35.000000\n",
       "max        120.000000\n",
       "Name: mths_since_last_delinq, dtype: float64"
      ]
     },
     "execution_count": 219,
     "metadata": {},
     "output_type": "execute_result"
    }
   ],
   "source": [
    "mths_since_last_delinq_median = df.mths_since_last_delinq.median()\n",
    "df.mths_since_last_delinq = df['mths_since_last_delinq'].fillna(mths_since_last_delinq_median)\n",
    "df.mths_since_last_delinq.describe()\n"
   ]
  },
  {
   "cell_type": "markdown",
   "id": "5ec1beb6",
   "metadata": {},
   "source": [
    "## Fix Columns Values and Data Types"
   ]
  },
  {
   "cell_type": "code",
   "execution_count": 220,
   "id": "8fb49284",
   "metadata": {},
   "outputs": [
    {
     "data": {
      "text/html": [
       "<div>\n",
       "<style scoped>\n",
       "    .dataframe tbody tr th:only-of-type {\n",
       "        vertical-align: middle;\n",
       "    }\n",
       "\n",
       "    .dataframe tbody tr th {\n",
       "        vertical-align: top;\n",
       "    }\n",
       "\n",
       "    .dataframe thead th {\n",
       "        text-align: right;\n",
       "    }\n",
       "</style>\n",
       "<table border=\"1\" class=\"dataframe\">\n",
       "  <thead>\n",
       "    <tr style=\"text-align: right;\">\n",
       "      <th></th>\n",
       "      <th>loan_amnt</th>\n",
       "      <th>funded_amnt</th>\n",
       "      <th>funded_amnt_inv</th>\n",
       "      <th>term</th>\n",
       "      <th>int_rate</th>\n",
       "      <th>installment</th>\n",
       "      <th>grade</th>\n",
       "      <th>sub_grade</th>\n",
       "      <th>emp_title</th>\n",
       "      <th>emp_length</th>\n",
       "      <th>home_ownership</th>\n",
       "      <th>annual_inc</th>\n",
       "      <th>verification_status</th>\n",
       "      <th>issue_d</th>\n",
       "      <th>loan_status</th>\n",
       "      <th>zip_code</th>\n",
       "      <th>addr_state</th>\n",
       "      <th>dti</th>\n",
       "      <th>delinq_2yrs</th>\n",
       "      <th>earliest_cr_line</th>\n",
       "      <th>inq_last_6mths</th>\n",
       "      <th>mths_since_last_delinq</th>\n",
       "      <th>open_acc</th>\n",
       "      <th>pub_rec</th>\n",
       "      <th>revol_bal</th>\n",
       "      <th>revol_util</th>\n",
       "      <th>total_acc</th>\n",
       "      <th>out_prncp</th>\n",
       "      <th>out_prncp_inv</th>\n",
       "      <th>total_pymnt</th>\n",
       "      <th>total_pymnt_inv</th>\n",
       "      <th>total_rec_prncp</th>\n",
       "      <th>total_rec_int</th>\n",
       "      <th>total_rec_late_fee</th>\n",
       "      <th>recoveries</th>\n",
       "      <th>collection_recovery_fee</th>\n",
       "      <th>last_pymnt_d</th>\n",
       "      <th>last_pymnt_amnt</th>\n",
       "      <th>last_credit_pull_d</th>\n",
       "      <th>pub_rec_bankruptcies</th>\n",
       "    </tr>\n",
       "  </thead>\n",
       "  <tbody>\n",
       "    <tr>\n",
       "      <th>1</th>\n",
       "      <td>2500</td>\n",
       "      <td>2500</td>\n",
       "      <td>2500.0</td>\n",
       "      <td>60 months</td>\n",
       "      <td>15.27%</td>\n",
       "      <td>59.83</td>\n",
       "      <td>C</td>\n",
       "      <td>C4</td>\n",
       "      <td>Ryder</td>\n",
       "      <td>&lt; 1 year</td>\n",
       "      <td>RENT</td>\n",
       "      <td>30000.0</td>\n",
       "      <td>Source Verified</td>\n",
       "      <td>Dec-11</td>\n",
       "      <td>Charged Off</td>\n",
       "      <td>309xx</td>\n",
       "      <td>GA</td>\n",
       "      <td>1.00</td>\n",
       "      <td>0</td>\n",
       "      <td>Apr-99</td>\n",
       "      <td>5</td>\n",
       "      <td>35.0</td>\n",
       "      <td>3</td>\n",
       "      <td>0</td>\n",
       "      <td>1687</td>\n",
       "      <td>9.40%</td>\n",
       "      <td>4</td>\n",
       "      <td>0.00</td>\n",
       "      <td>0.00</td>\n",
       "      <td>1008.71</td>\n",
       "      <td>1008.71</td>\n",
       "      <td>456.46</td>\n",
       "      <td>435.17</td>\n",
       "      <td>0.00</td>\n",
       "      <td>117.08</td>\n",
       "      <td>1.11</td>\n",
       "      <td>Apr-13</td>\n",
       "      <td>119.66</td>\n",
       "      <td>Sep-13</td>\n",
       "      <td>0.0</td>\n",
       "    </tr>\n",
       "    <tr>\n",
       "      <th>3</th>\n",
       "      <td>10000</td>\n",
       "      <td>10000</td>\n",
       "      <td>10000.0</td>\n",
       "      <td>36 months</td>\n",
       "      <td>13.49%</td>\n",
       "      <td>339.31</td>\n",
       "      <td>C</td>\n",
       "      <td>C1</td>\n",
       "      <td>AIR RESOURCES BOARD</td>\n",
       "      <td>10+ years</td>\n",
       "      <td>RENT</td>\n",
       "      <td>49200.0</td>\n",
       "      <td>Source Verified</td>\n",
       "      <td>Dec-11</td>\n",
       "      <td>Fully Paid</td>\n",
       "      <td>917xx</td>\n",
       "      <td>CA</td>\n",
       "      <td>20.00</td>\n",
       "      <td>0</td>\n",
       "      <td>Feb-96</td>\n",
       "      <td>1</td>\n",
       "      <td>35.0</td>\n",
       "      <td>10</td>\n",
       "      <td>0</td>\n",
       "      <td>5598</td>\n",
       "      <td>21%</td>\n",
       "      <td>37</td>\n",
       "      <td>0.00</td>\n",
       "      <td>0.00</td>\n",
       "      <td>12231.89</td>\n",
       "      <td>12231.89</td>\n",
       "      <td>10000.00</td>\n",
       "      <td>2214.92</td>\n",
       "      <td>16.97</td>\n",
       "      <td>0.00</td>\n",
       "      <td>0.00</td>\n",
       "      <td>Jan-15</td>\n",
       "      <td>357.48</td>\n",
       "      <td>Apr-16</td>\n",
       "      <td>0.0</td>\n",
       "    </tr>\n",
       "    <tr>\n",
       "      <th>4</th>\n",
       "      <td>3000</td>\n",
       "      <td>3000</td>\n",
       "      <td>3000.0</td>\n",
       "      <td>60 months</td>\n",
       "      <td>12.69%</td>\n",
       "      <td>67.79</td>\n",
       "      <td>B</td>\n",
       "      <td>B5</td>\n",
       "      <td>University Medical Group</td>\n",
       "      <td>1 year</td>\n",
       "      <td>RENT</td>\n",
       "      <td>80000.0</td>\n",
       "      <td>Source Verified</td>\n",
       "      <td>Dec-11</td>\n",
       "      <td>Current</td>\n",
       "      <td>972xx</td>\n",
       "      <td>OR</td>\n",
       "      <td>17.94</td>\n",
       "      <td>0</td>\n",
       "      <td>Jan-96</td>\n",
       "      <td>0</td>\n",
       "      <td>38.0</td>\n",
       "      <td>15</td>\n",
       "      <td>0</td>\n",
       "      <td>27783</td>\n",
       "      <td>53.90%</td>\n",
       "      <td>38</td>\n",
       "      <td>524.06</td>\n",
       "      <td>524.06</td>\n",
       "      <td>3513.33</td>\n",
       "      <td>3513.33</td>\n",
       "      <td>2475.94</td>\n",
       "      <td>1037.39</td>\n",
       "      <td>0.00</td>\n",
       "      <td>0.00</td>\n",
       "      <td>0.00</td>\n",
       "      <td>May-16</td>\n",
       "      <td>67.79</td>\n",
       "      <td>May-16</td>\n",
       "      <td>0.0</td>\n",
       "    </tr>\n",
       "    <tr>\n",
       "      <th>5</th>\n",
       "      <td>5000</td>\n",
       "      <td>5000</td>\n",
       "      <td>5000.0</td>\n",
       "      <td>36 months</td>\n",
       "      <td>7.90%</td>\n",
       "      <td>156.46</td>\n",
       "      <td>A</td>\n",
       "      <td>A4</td>\n",
       "      <td>Veolia Transportaton</td>\n",
       "      <td>3 years</td>\n",
       "      <td>RENT</td>\n",
       "      <td>36000.0</td>\n",
       "      <td>Source Verified</td>\n",
       "      <td>Dec-11</td>\n",
       "      <td>Fully Paid</td>\n",
       "      <td>852xx</td>\n",
       "      <td>AZ</td>\n",
       "      <td>11.20</td>\n",
       "      <td>0</td>\n",
       "      <td>Nov-04</td>\n",
       "      <td>3</td>\n",
       "      <td>35.0</td>\n",
       "      <td>9</td>\n",
       "      <td>0</td>\n",
       "      <td>7963</td>\n",
       "      <td>28.30%</td>\n",
       "      <td>12</td>\n",
       "      <td>0.00</td>\n",
       "      <td>0.00</td>\n",
       "      <td>5632.21</td>\n",
       "      <td>5632.21</td>\n",
       "      <td>5000.00</td>\n",
       "      <td>632.21</td>\n",
       "      <td>0.00</td>\n",
       "      <td>0.00</td>\n",
       "      <td>0.00</td>\n",
       "      <td>Jan-15</td>\n",
       "      <td>161.03</td>\n",
       "      <td>Jan-16</td>\n",
       "      <td>0.0</td>\n",
       "    </tr>\n",
       "    <tr>\n",
       "      <th>6</th>\n",
       "      <td>7000</td>\n",
       "      <td>7000</td>\n",
       "      <td>7000.0</td>\n",
       "      <td>60 months</td>\n",
       "      <td>15.96%</td>\n",
       "      <td>170.08</td>\n",
       "      <td>C</td>\n",
       "      <td>C5</td>\n",
       "      <td>Southern Star Photography</td>\n",
       "      <td>8 years</td>\n",
       "      <td>RENT</td>\n",
       "      <td>47004.0</td>\n",
       "      <td>Not Verified</td>\n",
       "      <td>Dec-11</td>\n",
       "      <td>Fully Paid</td>\n",
       "      <td>280xx</td>\n",
       "      <td>NC</td>\n",
       "      <td>23.51</td>\n",
       "      <td>0</td>\n",
       "      <td>Jul-05</td>\n",
       "      <td>1</td>\n",
       "      <td>35.0</td>\n",
       "      <td>7</td>\n",
       "      <td>0</td>\n",
       "      <td>17726</td>\n",
       "      <td>85.60%</td>\n",
       "      <td>11</td>\n",
       "      <td>0.00</td>\n",
       "      <td>0.00</td>\n",
       "      <td>10110.84</td>\n",
       "      <td>10110.84</td>\n",
       "      <td>6985.61</td>\n",
       "      <td>3125.23</td>\n",
       "      <td>0.00</td>\n",
       "      <td>0.00</td>\n",
       "      <td>0.00</td>\n",
       "      <td>May-16</td>\n",
       "      <td>1313.76</td>\n",
       "      <td>May-16</td>\n",
       "      <td>0.0</td>\n",
       "    </tr>\n",
       "  </tbody>\n",
       "</table>\n",
       "</div>"
      ],
      "text/plain": [
       "   loan_amnt  funded_amnt  funded_amnt_inv        term int_rate  installment  \\\n",
       "1       2500         2500           2500.0   60 months   15.27%        59.83   \n",
       "3      10000        10000          10000.0   36 months   13.49%       339.31   \n",
       "4       3000         3000           3000.0   60 months   12.69%        67.79   \n",
       "5       5000         5000           5000.0   36 months    7.90%       156.46   \n",
       "6       7000         7000           7000.0   60 months   15.96%       170.08   \n",
       "\n",
       "  grade sub_grade                  emp_title emp_length home_ownership  \\\n",
       "1     C        C4                      Ryder   < 1 year           RENT   \n",
       "3     C        C1        AIR RESOURCES BOARD  10+ years           RENT   \n",
       "4     B        B5   University Medical Group     1 year           RENT   \n",
       "5     A        A4       Veolia Transportaton    3 years           RENT   \n",
       "6     C        C5  Southern Star Photography    8 years           RENT   \n",
       "\n",
       "   annual_inc verification_status issue_d  loan_status zip_code addr_state  \\\n",
       "1     30000.0     Source Verified  Dec-11  Charged Off    309xx         GA   \n",
       "3     49200.0     Source Verified  Dec-11   Fully Paid    917xx         CA   \n",
       "4     80000.0     Source Verified  Dec-11      Current    972xx         OR   \n",
       "5     36000.0     Source Verified  Dec-11   Fully Paid    852xx         AZ   \n",
       "6     47004.0        Not Verified  Dec-11   Fully Paid    280xx         NC   \n",
       "\n",
       "     dti  delinq_2yrs earliest_cr_line  inq_last_6mths  \\\n",
       "1   1.00            0           Apr-99               5   \n",
       "3  20.00            0           Feb-96               1   \n",
       "4  17.94            0           Jan-96               0   \n",
       "5  11.20            0           Nov-04               3   \n",
       "6  23.51            0           Jul-05               1   \n",
       "\n",
       "   mths_since_last_delinq  open_acc  pub_rec  revol_bal revol_util  total_acc  \\\n",
       "1                    35.0         3        0       1687      9.40%          4   \n",
       "3                    35.0        10        0       5598        21%         37   \n",
       "4                    38.0        15        0      27783     53.90%         38   \n",
       "5                    35.0         9        0       7963     28.30%         12   \n",
       "6                    35.0         7        0      17726     85.60%         11   \n",
       "\n",
       "   out_prncp  out_prncp_inv  total_pymnt  total_pymnt_inv  total_rec_prncp  \\\n",
       "1       0.00           0.00      1008.71          1008.71           456.46   \n",
       "3       0.00           0.00     12231.89         12231.89         10000.00   \n",
       "4     524.06         524.06      3513.33          3513.33          2475.94   \n",
       "5       0.00           0.00      5632.21          5632.21          5000.00   \n",
       "6       0.00           0.00     10110.84         10110.84          6985.61   \n",
       "\n",
       "   total_rec_int  total_rec_late_fee  recoveries  collection_recovery_fee  \\\n",
       "1         435.17                0.00      117.08                     1.11   \n",
       "3        2214.92               16.97        0.00                     0.00   \n",
       "4        1037.39                0.00        0.00                     0.00   \n",
       "5         632.21                0.00        0.00                     0.00   \n",
       "6        3125.23                0.00        0.00                     0.00   \n",
       "\n",
       "  last_pymnt_d  last_pymnt_amnt last_credit_pull_d  pub_rec_bankruptcies  \n",
       "1       Apr-13           119.66             Sep-13                   0.0  \n",
       "3       Jan-15           357.48             Apr-16                   0.0  \n",
       "4       May-16            67.79             May-16                   0.0  \n",
       "5       Jan-15           161.03             Jan-16                   0.0  \n",
       "6       May-16          1313.76             May-16                   0.0  "
      ]
     },
     "execution_count": 220,
     "metadata": {},
     "output_type": "execute_result"
    }
   ],
   "source": [
    "df.head()"
   ]
  },
  {
   "cell_type": "markdown",
   "id": "69244b97",
   "metadata": {},
   "source": [
    "### Fix column values"
   ]
  },
  {
   "cell_type": "code",
   "execution_count": 221,
   "id": "8debd74b",
   "metadata": {},
   "outputs": [
    {
     "data": {
      "text/html": [
       "<div>\n",
       "<style scoped>\n",
       "    .dataframe tbody tr th:only-of-type {\n",
       "        vertical-align: middle;\n",
       "    }\n",
       "\n",
       "    .dataframe tbody tr th {\n",
       "        vertical-align: top;\n",
       "    }\n",
       "\n",
       "    .dataframe thead th {\n",
       "        text-align: right;\n",
       "    }\n",
       "</style>\n",
       "<table border=\"1\" class=\"dataframe\">\n",
       "  <thead>\n",
       "    <tr style=\"text-align: right;\">\n",
       "      <th></th>\n",
       "      <th>loan_amnt</th>\n",
       "      <th>funded_amnt</th>\n",
       "      <th>funded_amnt_inv</th>\n",
       "      <th>term</th>\n",
       "      <th>int_rate</th>\n",
       "      <th>installment</th>\n",
       "      <th>grade</th>\n",
       "      <th>sub_grade</th>\n",
       "      <th>emp_title</th>\n",
       "      <th>emp_length</th>\n",
       "      <th>home_ownership</th>\n",
       "      <th>annual_inc</th>\n",
       "      <th>verification_status</th>\n",
       "      <th>issue_d</th>\n",
       "      <th>loan_status</th>\n",
       "      <th>zip_code</th>\n",
       "      <th>addr_state</th>\n",
       "      <th>dti</th>\n",
       "      <th>delinq_2yrs</th>\n",
       "      <th>earliest_cr_line</th>\n",
       "      <th>inq_last_6mths</th>\n",
       "      <th>mths_since_last_delinq</th>\n",
       "      <th>open_acc</th>\n",
       "      <th>pub_rec</th>\n",
       "      <th>revol_bal</th>\n",
       "      <th>revol_util</th>\n",
       "      <th>total_acc</th>\n",
       "      <th>out_prncp</th>\n",
       "      <th>out_prncp_inv</th>\n",
       "      <th>total_pymnt</th>\n",
       "      <th>total_pymnt_inv</th>\n",
       "      <th>total_rec_prncp</th>\n",
       "      <th>total_rec_int</th>\n",
       "      <th>total_rec_late_fee</th>\n",
       "      <th>recoveries</th>\n",
       "      <th>collection_recovery_fee</th>\n",
       "      <th>last_pymnt_d</th>\n",
       "      <th>last_pymnt_amnt</th>\n",
       "      <th>last_credit_pull_d</th>\n",
       "      <th>pub_rec_bankruptcies</th>\n",
       "    </tr>\n",
       "  </thead>\n",
       "  <tbody>\n",
       "    <tr>\n",
       "      <th>1</th>\n",
       "      <td>2500</td>\n",
       "      <td>2500</td>\n",
       "      <td>2500.0</td>\n",
       "      <td>60</td>\n",
       "      <td>15.27</td>\n",
       "      <td>59.83</td>\n",
       "      <td>C</td>\n",
       "      <td>C4</td>\n",
       "      <td>Ryder</td>\n",
       "      <td>1</td>\n",
       "      <td>RENT</td>\n",
       "      <td>30000.0</td>\n",
       "      <td>Source Verified</td>\n",
       "      <td>Dec-11</td>\n",
       "      <td>Charged Off</td>\n",
       "      <td>309xx</td>\n",
       "      <td>GA</td>\n",
       "      <td>1.00</td>\n",
       "      <td>0</td>\n",
       "      <td>Apr-99</td>\n",
       "      <td>5</td>\n",
       "      <td>35.0</td>\n",
       "      <td>3</td>\n",
       "      <td>0</td>\n",
       "      <td>1687</td>\n",
       "      <td>9.40%</td>\n",
       "      <td>4</td>\n",
       "      <td>0.00</td>\n",
       "      <td>0.00</td>\n",
       "      <td>1008.71</td>\n",
       "      <td>1008.71</td>\n",
       "      <td>456.46</td>\n",
       "      <td>435.17</td>\n",
       "      <td>0.00</td>\n",
       "      <td>117.08</td>\n",
       "      <td>1.11</td>\n",
       "      <td>Apr-13</td>\n",
       "      <td>119.66</td>\n",
       "      <td>Sep-13</td>\n",
       "      <td>0.0</td>\n",
       "    </tr>\n",
       "    <tr>\n",
       "      <th>3</th>\n",
       "      <td>10000</td>\n",
       "      <td>10000</td>\n",
       "      <td>10000.0</td>\n",
       "      <td>36</td>\n",
       "      <td>13.49</td>\n",
       "      <td>339.31</td>\n",
       "      <td>C</td>\n",
       "      <td>C1</td>\n",
       "      <td>AIR RESOURCES BOARD</td>\n",
       "      <td>10</td>\n",
       "      <td>RENT</td>\n",
       "      <td>49200.0</td>\n",
       "      <td>Source Verified</td>\n",
       "      <td>Dec-11</td>\n",
       "      <td>Fully Paid</td>\n",
       "      <td>917xx</td>\n",
       "      <td>CA</td>\n",
       "      <td>20.00</td>\n",
       "      <td>0</td>\n",
       "      <td>Feb-96</td>\n",
       "      <td>1</td>\n",
       "      <td>35.0</td>\n",
       "      <td>10</td>\n",
       "      <td>0</td>\n",
       "      <td>5598</td>\n",
       "      <td>21%</td>\n",
       "      <td>37</td>\n",
       "      <td>0.00</td>\n",
       "      <td>0.00</td>\n",
       "      <td>12231.89</td>\n",
       "      <td>12231.89</td>\n",
       "      <td>10000.00</td>\n",
       "      <td>2214.92</td>\n",
       "      <td>16.97</td>\n",
       "      <td>0.00</td>\n",
       "      <td>0.00</td>\n",
       "      <td>Jan-15</td>\n",
       "      <td>357.48</td>\n",
       "      <td>Apr-16</td>\n",
       "      <td>0.0</td>\n",
       "    </tr>\n",
       "    <tr>\n",
       "      <th>4</th>\n",
       "      <td>3000</td>\n",
       "      <td>3000</td>\n",
       "      <td>3000.0</td>\n",
       "      <td>60</td>\n",
       "      <td>12.69</td>\n",
       "      <td>67.79</td>\n",
       "      <td>B</td>\n",
       "      <td>B5</td>\n",
       "      <td>University Medical Group</td>\n",
       "      <td>1</td>\n",
       "      <td>RENT</td>\n",
       "      <td>80000.0</td>\n",
       "      <td>Source Verified</td>\n",
       "      <td>Dec-11</td>\n",
       "      <td>Current</td>\n",
       "      <td>972xx</td>\n",
       "      <td>OR</td>\n",
       "      <td>17.94</td>\n",
       "      <td>0</td>\n",
       "      <td>Jan-96</td>\n",
       "      <td>0</td>\n",
       "      <td>38.0</td>\n",
       "      <td>15</td>\n",
       "      <td>0</td>\n",
       "      <td>27783</td>\n",
       "      <td>53.90%</td>\n",
       "      <td>38</td>\n",
       "      <td>524.06</td>\n",
       "      <td>524.06</td>\n",
       "      <td>3513.33</td>\n",
       "      <td>3513.33</td>\n",
       "      <td>2475.94</td>\n",
       "      <td>1037.39</td>\n",
       "      <td>0.00</td>\n",
       "      <td>0.00</td>\n",
       "      <td>0.00</td>\n",
       "      <td>May-16</td>\n",
       "      <td>67.79</td>\n",
       "      <td>May-16</td>\n",
       "      <td>0.0</td>\n",
       "    </tr>\n",
       "    <tr>\n",
       "      <th>5</th>\n",
       "      <td>5000</td>\n",
       "      <td>5000</td>\n",
       "      <td>5000.0</td>\n",
       "      <td>36</td>\n",
       "      <td>7.90</td>\n",
       "      <td>156.46</td>\n",
       "      <td>A</td>\n",
       "      <td>A4</td>\n",
       "      <td>Veolia Transportaton</td>\n",
       "      <td>3</td>\n",
       "      <td>RENT</td>\n",
       "      <td>36000.0</td>\n",
       "      <td>Source Verified</td>\n",
       "      <td>Dec-11</td>\n",
       "      <td>Fully Paid</td>\n",
       "      <td>852xx</td>\n",
       "      <td>AZ</td>\n",
       "      <td>11.20</td>\n",
       "      <td>0</td>\n",
       "      <td>Nov-04</td>\n",
       "      <td>3</td>\n",
       "      <td>35.0</td>\n",
       "      <td>9</td>\n",
       "      <td>0</td>\n",
       "      <td>7963</td>\n",
       "      <td>28.30%</td>\n",
       "      <td>12</td>\n",
       "      <td>0.00</td>\n",
       "      <td>0.00</td>\n",
       "      <td>5632.21</td>\n",
       "      <td>5632.21</td>\n",
       "      <td>5000.00</td>\n",
       "      <td>632.21</td>\n",
       "      <td>0.00</td>\n",
       "      <td>0.00</td>\n",
       "      <td>0.00</td>\n",
       "      <td>Jan-15</td>\n",
       "      <td>161.03</td>\n",
       "      <td>Jan-16</td>\n",
       "      <td>0.0</td>\n",
       "    </tr>\n",
       "    <tr>\n",
       "      <th>6</th>\n",
       "      <td>7000</td>\n",
       "      <td>7000</td>\n",
       "      <td>7000.0</td>\n",
       "      <td>60</td>\n",
       "      <td>15.96</td>\n",
       "      <td>170.08</td>\n",
       "      <td>C</td>\n",
       "      <td>C5</td>\n",
       "      <td>Southern Star Photography</td>\n",
       "      <td>8</td>\n",
       "      <td>RENT</td>\n",
       "      <td>47004.0</td>\n",
       "      <td>Not Verified</td>\n",
       "      <td>Dec-11</td>\n",
       "      <td>Fully Paid</td>\n",
       "      <td>280xx</td>\n",
       "      <td>NC</td>\n",
       "      <td>23.51</td>\n",
       "      <td>0</td>\n",
       "      <td>Jul-05</td>\n",
       "      <td>1</td>\n",
       "      <td>35.0</td>\n",
       "      <td>7</td>\n",
       "      <td>0</td>\n",
       "      <td>17726</td>\n",
       "      <td>85.60%</td>\n",
       "      <td>11</td>\n",
       "      <td>0.00</td>\n",
       "      <td>0.00</td>\n",
       "      <td>10110.84</td>\n",
       "      <td>10110.84</td>\n",
       "      <td>6985.61</td>\n",
       "      <td>3125.23</td>\n",
       "      <td>0.00</td>\n",
       "      <td>0.00</td>\n",
       "      <td>0.00</td>\n",
       "      <td>May-16</td>\n",
       "      <td>1313.76</td>\n",
       "      <td>May-16</td>\n",
       "      <td>0.0</td>\n",
       "    </tr>\n",
       "  </tbody>\n",
       "</table>\n",
       "</div>"
      ],
      "text/plain": [
       "   loan_amnt  funded_amnt  funded_amnt_inv term int_rate  installment grade  \\\n",
       "1       2500         2500           2500.0   60    15.27        59.83     C   \n",
       "3      10000        10000          10000.0   36    13.49       339.31     C   \n",
       "4       3000         3000           3000.0   60    12.69        67.79     B   \n",
       "5       5000         5000           5000.0   36     7.90       156.46     A   \n",
       "6       7000         7000           7000.0   60    15.96       170.08     C   \n",
       "\n",
       "  sub_grade                  emp_title emp_length home_ownership  annual_inc  \\\n",
       "1        C4                      Ryder          1           RENT     30000.0   \n",
       "3        C1        AIR RESOURCES BOARD         10           RENT     49200.0   \n",
       "4        B5   University Medical Group          1           RENT     80000.0   \n",
       "5        A4       Veolia Transportaton          3           RENT     36000.0   \n",
       "6        C5  Southern Star Photography          8           RENT     47004.0   \n",
       "\n",
       "  verification_status issue_d  loan_status zip_code addr_state    dti  \\\n",
       "1     Source Verified  Dec-11  Charged Off    309xx         GA   1.00   \n",
       "3     Source Verified  Dec-11   Fully Paid    917xx         CA  20.00   \n",
       "4     Source Verified  Dec-11      Current    972xx         OR  17.94   \n",
       "5     Source Verified  Dec-11   Fully Paid    852xx         AZ  11.20   \n",
       "6        Not Verified  Dec-11   Fully Paid    280xx         NC  23.51   \n",
       "\n",
       "   delinq_2yrs earliest_cr_line  inq_last_6mths  mths_since_last_delinq  \\\n",
       "1            0           Apr-99               5                    35.0   \n",
       "3            0           Feb-96               1                    35.0   \n",
       "4            0           Jan-96               0                    38.0   \n",
       "5            0           Nov-04               3                    35.0   \n",
       "6            0           Jul-05               1                    35.0   \n",
       "\n",
       "   open_acc  pub_rec  revol_bal revol_util  total_acc  out_prncp  \\\n",
       "1         3        0       1687      9.40%          4       0.00   \n",
       "3        10        0       5598        21%         37       0.00   \n",
       "4        15        0      27783     53.90%         38     524.06   \n",
       "5         9        0       7963     28.30%         12       0.00   \n",
       "6         7        0      17726     85.60%         11       0.00   \n",
       "\n",
       "   out_prncp_inv  total_pymnt  total_pymnt_inv  total_rec_prncp  \\\n",
       "1           0.00      1008.71          1008.71           456.46   \n",
       "3           0.00     12231.89         12231.89         10000.00   \n",
       "4         524.06      3513.33          3513.33          2475.94   \n",
       "5           0.00      5632.21          5632.21          5000.00   \n",
       "6           0.00     10110.84         10110.84          6985.61   \n",
       "\n",
       "   total_rec_int  total_rec_late_fee  recoveries  collection_recovery_fee  \\\n",
       "1         435.17                0.00      117.08                     1.11   \n",
       "3        2214.92               16.97        0.00                     0.00   \n",
       "4        1037.39                0.00        0.00                     0.00   \n",
       "5         632.21                0.00        0.00                     0.00   \n",
       "6        3125.23                0.00        0.00                     0.00   \n",
       "\n",
       "  last_pymnt_d  last_pymnt_amnt last_credit_pull_d  pub_rec_bankruptcies  \n",
       "1       Apr-13           119.66             Sep-13                   0.0  \n",
       "3       Jan-15           357.48             Apr-16                   0.0  \n",
       "4       May-16            67.79             May-16                   0.0  \n",
       "5       Jan-15           161.03             Jan-16                   0.0  \n",
       "6       May-16          1313.76             May-16                   0.0  "
      ]
     },
     "execution_count": 221,
     "metadata": {},
     "output_type": "execute_result"
    }
   ],
   "source": [
    "def fix_column_values():\n",
    "    ## Trim the ' months' from the value from term column \n",
    "    df.term.value_counts(dropna=False)\n",
    "    df.term = df.term.apply(lambda x : x.replace(\" months\", \"\"))\n",
    "\n",
    "    # Trim '%' from the int_rate column*\n",
    "    df.int_rate.value_counts(dropna=False)\n",
    "    df.int_rate = df.int_rate.apply(lambda x : x.replace(\"%\", \"\"))\n",
    "\n",
    "    # Replace \"< \", \" year\", \" years\", \"+ years\" with \"\"\n",
    "    df.emp_length.value_counts(dropna=False)\n",
    "    df.emp_length = df.emp_length.apply(lambda x: x.replace(\"< \", \"\").replace(\"+ years\", \"\").replace(\" years\", \"\").replace(\" year\",\"\"))\n",
    "\n",
    "fix_column_values()\n",
    "df.head()"
   ]
  },
  {
   "cell_type": "markdown",
   "id": "f319e624",
   "metadata": {},
   "source": []
  },
  {
   "cell_type": "markdown",
   "id": "4b9fac5e",
   "metadata": {},
   "source": [
    "* *Rename columns*\n",
    "    * Rename 'term' to 'term_in_months'"
   ]
  },
  {
   "cell_type": "code",
   "execution_count": 222,
   "id": "a2bacace",
   "metadata": {},
   "outputs": [],
   "source": [
    "df = df.rename(columns={\"term\" : \"term_in_months\"})"
   ]
  },
  {
   "cell_type": "markdown",
   "id": "34377574",
   "metadata": {},
   "source": [
    "#### ***Correct columns datatypes***\n",
    "     * Change term_in_months, emp_length to int\n",
    "     * Change int_rate, funded_amnt, loan_amnt to float"
   ]
  },
  {
   "cell_type": "code",
   "execution_count": 223,
   "id": "2e1011ff",
   "metadata": {},
   "outputs": [],
   "source": [
    "df = df.astype({\"term_in_months\": int, \"int_rate\": float, \"loan_amnt\": float, \"funded_amnt\": float, \"funded_amnt_inv\": float, \"emp_length\": int, \"annual_inc\": float})\n",
    "# df.last_pymnt_d = pd.to_datetime(df.last_pymnt_d, format='%b-%y')\n",
    "# df.last_credit_pull_d = pd.to_datetime(df.last_credit_pull_d, format='%b-%y')\n",
    "df.issue_d = pd.to_datetime(df.issue_d, format='%b-%y')"
   ]
  },
  {
   "cell_type": "markdown",
   "id": "30c6b304",
   "metadata": {},
   "source": [
    "### Derive columns"
   ]
  },
  {
   "cell_type": "code",
   "execution_count": 224,
   "id": "61a9663b",
   "metadata": {},
   "outputs": [
    {
     "data": {
      "text/plain": [
       "Fully Paid     30423\n",
       "Charged Off     4942\n",
       "Current         1066\n",
       "Name: loan_status, dtype: int64"
      ]
     },
     "execution_count": 224,
     "metadata": {},
     "output_type": "execute_result"
    }
   ],
   "source": [
    "df.loan_status.value_counts()"
   ]
  },
  {
   "cell_type": "code",
   "execution_count": 225,
   "id": "47503d7b",
   "metadata": {},
   "outputs": [
    {
     "data": {
      "text/plain": [
       "0    30423\n",
       "1     4942\n",
       "Name: defaulted, dtype: int64"
      ]
     },
     "execution_count": 225,
     "metadata": {},
     "output_type": "execute_result"
    }
   ],
   "source": [
    "df['issue_y'] = pd.DatetimeIndex(df.issue_d).year\n",
    "df['issue_m'] = pd.DatetimeIndex(df.issue_d).month\n",
    "\n",
    "# Convert loan_status into a numerical variable\n",
    "df = df[df.loan_status != \"Current\"]\n",
    "df['defaulted'] = df.loan_status.apply(lambda x: 1 if (x == \"Charged Off\") else 0) \n",
    "df.defaulted.value_counts()"
   ]
  },
  {
   "cell_type": "markdown",
   "id": "6e6ecc82",
   "metadata": {},
   "source": [
    "### Drop duplicates if any"
   ]
  },
  {
   "cell_type": "code",
   "execution_count": 226,
   "id": "ff53e7a4",
   "metadata": {},
   "outputs": [
    {
     "data": {
      "text/plain": [
       "(35365, 43)"
      ]
     },
     "execution_count": 226,
     "metadata": {},
     "output_type": "execute_result"
    }
   ],
   "source": [
    "## Drop duplicates if there are any\n",
    "df.drop_duplicates()\n",
    "df.shape"
   ]
  },
  {
   "cell_type": "markdown",
   "id": "c830b58b",
   "metadata": {},
   "source": [
    "### Univariate and bivariate analysis"
   ]
  },
  {
   "cell_type": "code",
   "execution_count": 227,
   "id": "4417d352",
   "metadata": {},
   "outputs": [],
   "source": [
    "import seaborn as sns\n",
    "import matplotlib.pyplot as plt"
   ]
  },
  {
   "cell_type": "markdown",
   "id": "ecdadc36",
   "metadata": {},
   "source": [
    "### Remove outliers and create categorical variables"
   ]
  },
  {
   "cell_type": "code",
   "execution_count": 228,
   "id": "f9c6efbb",
   "metadata": {},
   "outputs": [
    {
     "data": {
      "image/png": "[encoded data removed]",
      "text/plain": [
       "<Figure size 640x480 with 1 Axes>"
      ]
     },
     "metadata": {},
     "output_type": "display_data"
    }
   ],
   "source": [
    "# Remove outliers using IQR for loan amount\n",
    "loan_amnt_iqr = df.loan_amnt.quantile(0.75) - df.loan_amnt.quantile(0.25)\n",
    "loan_amnt_lower_bound = df.loan_amnt.quantile(0.25) - 1.5*loan_amnt_iqr\n",
    "loan_amnt_upper_bound = df.loan_amnt.quantile(0.75) + 1.5*loan_amnt_iqr\n",
    "\n",
    "df = df[(df.loan_amnt >= loan_amnt_lower_bound) & (df.loan_amnt <= loan_amnt_upper_bound)]\n",
    "sns.boxplot(y=\"loan_amnt\", x=\"loan_status\", palette=\"muted\", hue=\"verification_status\", data=df)\n",
    "plt.show()\n",
    "\n",
    "loan_amt_25_quantile = int(df.loan_amnt.quantile(0.25))\n",
    "loan_amt_50_quantile = int(df.loan_amnt.quantile(0.5))\n",
    "loan_amt_75_quantile = int(df.loan_amnt.quantile(0.75))  \n",
    "\n",
    "# Convert loan amount into a categorical variable for further analysis\n",
    "def binning_loan_amnt(loan_amnt):  \n",
    "    if (loan_amnt <= loan_amt_25_quantile):\n",
    "        return \"0-{}\".format(loan_amt_25_quantile)\n",
    "    if (loan_amnt > loan_amt_25_quantile and loan_amnt <= loan_amt_50_quantile):\n",
    "        return \"{}-{}\".format(loan_amt_25_quantile, loan_amt_50_quantile)\n",
    "    if (loan_amnt > loan_amt_50_quantile and loan_amnt <= loan_amt_75_quantile):\n",
    "        return \"{}-{}\".format(loan_amt_50_quantile, loan_amt_75_quantile)\n",
    "    return \">{}\".format(loan_amt_75_quantile)\n",
    "\n",
    "df['loan_amnt_category'] = df.loan_amnt.apply(binning_loan_amnt)\n"
   ]
  },
  {
   "cell_type": "markdown",
   "id": "30f0f7c8",
   "metadata": {},
   "source": [
    "#### From the above plot an individual verified and asking for higher loan amount has higher likelihood of defaulting"
   ]
  },
  {
   "cell_type": "code",
   "execution_count": 229,
   "id": "0f6e4dd8",
   "metadata": {},
   "outputs": [
    {
     "data": {
      "image/png": "[encoded data removed]",
      "text/plain": [
       "<Figure size 640x480 with 1 Axes>"
      ]
     },
     "metadata": {},
     "output_type": "display_data"
    },
    {
     "data": {
      "text/plain": [
       "count    34357.000000\n",
       "mean     10491.828448\n",
       "std       6376.313976\n",
       "min        500.000000\n",
       "25%       5300.000000\n",
       "50%       9600.000000\n",
       "75%      15000.000000\n",
       "max      29175.000000\n",
       "Name: loan_amnt, dtype: float64"
      ]
     },
     "execution_count": 229,
     "metadata": {},
     "output_type": "execute_result"
    }
   ],
   "source": [
    "sns.boxplot(y=\"loan_amnt\", data=df)\n",
    "plt.show()\n",
    "df.loan_amnt.describe()"
   ]
  },
  {
   "cell_type": "markdown",
   "id": "7f75dcb2",
   "metadata": {},
   "source": [
    "#### 50% of folks ask for around ~9000 as loan amount"
   ]
  },
  {
   "cell_type": "code",
   "execution_count": 230,
   "id": "accd8d6c",
   "metadata": {},
   "outputs": [
    {
     "data": {
      "text/plain": [
       "count    34184.000000\n",
       "mean      9749.991920\n",
       "std       5965.365664\n",
       "min          0.000000\n",
       "25%       5000.000000\n",
       "50%       8675.000000\n",
       "75%      13575.000000\n",
       "max      26814.098160\n",
       "Name: funded_amnt_inv, dtype: float64"
      ]
     },
     "execution_count": 230,
     "metadata": {},
     "output_type": "execute_result"
    },
    {
     "data": {
      "image/png": "[encoded data removed]",
      "text/plain": [
       "<Figure size 500x500 with 1 Axes>"
      ]
     },
     "metadata": {},
     "output_type": "display_data"
    }
   ],
   "source": [
    "# Remove outliers using IQR for funded amount invested\n",
    "funded_amnt_inv_iqr = df.funded_amnt_inv.quantile(0.75) - df.funded_amnt_inv.quantile(0.25)\n",
    "funded_amnt_inv_lower_bound = df.funded_amnt_inv.quantile(0.25) - 1.5*funded_amnt_inv_iqr\n",
    "funded_amnt_inv_upper_bound = df.funded_amnt_inv.quantile(0.75) + 1.5*funded_amnt_inv_iqr\n",
    "\n",
    "df = df[(df.funded_amnt_inv >= funded_amnt_inv_lower_bound) & (df.funded_amnt_inv <= funded_amnt_inv_upper_bound)]\n",
    "sns.displot(df, x=\"funded_amnt_inv\", kde = True)\n",
    "\n",
    "funded_amnt_inv_25_quantile = int(df.funded_amnt_inv.quantile(0.25))\n",
    "funded_amnt_inv_50_quantile = int(df.funded_amnt_inv.quantile(0.5))\n",
    "funded_amnt_inv_75_quantile = int(df.funded_amnt_inv.quantile(0.75)) \n",
    "\n",
    "# Convert funded amount invested into a categorical variable for further analysis\n",
    "def binning_funded_amnt_inv(funded_amnt_inv):  \n",
    "    if (funded_amnt_inv <= funded_amnt_inv_25_quantile):\n",
    "        return \"0-{}\".format(funded_amnt_inv_25_quantile)\n",
    "    if (funded_amnt_inv > funded_amnt_inv_25_quantile and funded_amnt_inv <= funded_amnt_inv_50_quantile):\n",
    "        return \"{}-{}\".format(funded_amnt_inv_25_quantile, funded_amnt_inv_50_quantile)\n",
    "    if (funded_amnt_inv > funded_amnt_inv_50_quantile and funded_amnt_inv <= funded_amnt_inv_75_quantile):\n",
    "        return \"{}-{}\".format(funded_amnt_inv_50_quantile, funded_amnt_inv_75_quantile)\n",
    "    return \">{}\".format(funded_amnt_inv_75_quantile)\n",
    "\n",
    "df['funded_amnt_inv_category'] = df.funded_amnt_inv.apply(binning_funded_amnt_inv)\n",
    "df.funded_amnt_inv.describe()"
   ]
  },
  {
   "cell_type": "code",
   "execution_count": 231,
   "id": "ec103973",
   "metadata": {},
   "outputs": [
    {
     "data": {
      "text/plain": [
       "<Axes: xlabel='loan_status', ylabel='funded_amnt_inv'>"
      ]
     },
     "execution_count": 231,
     "metadata": {},
     "output_type": "execute_result"
    },
    {
     "data": {
      "image/png": "[encoded data removed]",
      "text/plain": [
       "<Figure size 640x480 with 1 Axes>"
      ]
     },
     "metadata": {},
     "output_type": "display_data"
    }
   ],
   "source": [
    "sns.boxplot(y=\"funded_amnt_inv\", x=\"loan_status\", palette=\"muted\", hue=\"verification_status\", data=df)"
   ]
  },
  {
   "cell_type": "markdown",
   "id": "3d73dbe2",
   "metadata": {},
   "source": [
    "#### From the above plots its evident that loan amount asked for and loan amount funded by investors at around multiples of 5000(5000, 10000, 12500, 15000, 20000, 25000) and 50% of folks are disbursed loan amount at around 8200\n",
    "\n",
    "#### Verification status seems to have no impact wether the loan would be defaulted"
   ]
  },
  {
   "cell_type": "code",
   "execution_count": 232,
   "id": "eaaa148b",
   "metadata": {},
   "outputs": [
    {
     "data": {
      "text/plain": [
       "count     32602.000000\n",
       "mean      60304.738173\n",
       "std       26643.383667\n",
       "min        4000.000000\n",
       "25%       40000.000000\n",
       "50%       55400.000000\n",
       "75%       75893.250000\n",
       "max      139200.000000\n",
       "Name: annual_inc, dtype: float64"
      ]
     },
     "execution_count": 232,
     "metadata": {},
     "output_type": "execute_result"
    },
    {
     "data": {
      "image/png": "[encoded data removed]",
      "text/plain": [
       "<Figure size 640x480 with 1 Axes>"
      ]
     },
     "metadata": {},
     "output_type": "display_data"
    }
   ],
   "source": [
    "# Remove outliers \n",
    "annual_inc_iqr = df.annual_inc.quantile(0.75) - df.annual_inc.quantile(0.25)\n",
    "annual_inc_lower_bound = df.annual_inc.quantile(0.25) - 1.5*annual_inc_iqr\n",
    "annual_inc_upper_bound = df.annual_inc.quantile(0.75) + 1.5*annual_inc_iqr\n",
    "\n",
    "df = df[(df.annual_inc >= annual_inc_lower_bound) & (df.annual_inc <= annual_inc_upper_bound)]\n",
    "sns.boxplot(y=\"annual_inc\", data=df)\n",
    "\n",
    "annual_inc_25_quantile = int(df.annual_inc.quantile(0.25))\n",
    "annual_inc_50_quantile = int(df.annual_inc.quantile(0.5))\n",
    "annual_inc_75_quantile = int(df.annual_inc.quantile(0.75))  \n",
    "\n",
    "# Convert annual income into a categorical variable for further analysis\n",
    "def binning_annual_inc(annual_inc):  \n",
    "    if (annual_inc <= annual_inc_25_quantile):\n",
    "        return \"0-{}\".format(annual_inc_25_quantile)\n",
    "    if (annual_inc > annual_inc_25_quantile and annual_inc <= annual_inc_50_quantile):\n",
    "        return \"{}-{}\".format(annual_inc_25_quantile, annual_inc_50_quantile)\n",
    "    if (annual_inc > annual_inc_50_quantile and annual_inc <= annual_inc_75_quantile):\n",
    "        return \"{}-{}\".format(annual_inc_50_quantile, annual_inc_75_quantile)\n",
    "    return \">{}\".format(annual_inc_75_quantile)\n",
    "\n",
    "df['annual_inc_category'] = df.annual_inc.apply(binning_annual_inc)\n",
    "df.annual_inc_category.value_counts()\n",
    "df.annual_inc.describe()"
   ]
  },
  {
   "cell_type": "markdown",
   "id": "41bfdc8c",
   "metadata": {},
   "source": [
    "#### A lot of folks annual income lies between ~40K - 70K"
   ]
  },
  {
   "cell_type": "code",
   "execution_count": 233,
   "id": "d3d67e4b",
   "metadata": {},
   "outputs": [
    {
     "data": {
      "text/plain": [
       "VERY HIGH    7887\n",
       "LOW          7632\n",
       "VERY LOW     7497\n",
       "MEDIUM       6637\n",
       "HIGH         2949\n",
       "Name: dti_bucket, dtype: int64"
      ]
     },
     "execution_count": 233,
     "metadata": {},
     "output_type": "execute_result"
    }
   ],
   "source": [
    "# Convert dti into a categorical variable\n",
    "def dti_bucketing(dti):\n",
    "    if (dti <= 8):\n",
    "        return 'VERY LOW'\n",
    "    if (dti > 8 and dti <=13):\n",
    "        return 'LOW'\n",
    "    if (dti > 13 and dti <=17):\n",
    "        return 'MEDIUM'\n",
    "    if (dti >= 17 and dti < 19):\n",
    "        return 'HIGH'\n",
    "    return 'VERY HIGH'\n",
    "df['dti_bucket'] = df.dti.apply(dti_bucketing)\n",
    "df.dti_bucket.value_counts()"
   ]
  },
  {
   "cell_type": "code",
   "execution_count": 234,
   "id": "400fa2d1",
   "metadata": {},
   "outputs": [
    {
     "data": {
      "text/plain": [
       "count    32548.000000\n",
       "mean        11.818768\n",
       "std          3.586414\n",
       "min          5.420000\n",
       "25%          8.900000\n",
       "50%         11.710000\n",
       "75%         14.270000\n",
       "max         22.110000\n",
       "Name: int_rate, dtype: float64"
      ]
     },
     "execution_count": 234,
     "metadata": {},
     "output_type": "execute_result"
    },
    {
     "data": {
      "image/png": "[encoded data removed]",
      "text/plain": [
       "<Figure size 640x480 with 1 Axes>"
      ]
     },
     "metadata": {},
     "output_type": "display_data"
    },
    {
     "data": {
      "image/png": "[encoded data removed]",
      "text/plain": [
       "<Figure size 500x500 with 1 Axes>"
      ]
     },
     "metadata": {},
     "output_type": "display_data"
    }
   ],
   "source": [
    "# Remove outliers\n",
    "int_rate_iqr = df.int_rate.quantile(0.75) - df.int_rate.quantile(0.25)\n",
    "int_rate_lower_bound = df.int_rate.quantile(0.25) - 1.5*int_rate_iqr\n",
    "int_rate_upper_bound = df.int_rate.quantile(0.75) + 1.5*int_rate_iqr\n",
    "\n",
    "df = df[(df.int_rate >= int_rate_lower_bound) & (df.int_rate <= int_rate_upper_bound)]\n",
    "sns.boxplot(y=\"int_rate\", data=df)\n",
    "sns.displot(df, x=\"int_rate\", kde = True)\n",
    "\n",
    "int_rate_25_quantile = int(df.int_rate.quantile(0.25))\n",
    "int_rate_50_quantile = int(df.int_rate.quantile(0.5))\n",
    "int_rate_75_quantile = int(df.int_rate.quantile(0.75))\n",
    "\n",
    "# Convert interest rate into categorical variable:\n",
    "def bin_int_rate(int_rate):\n",
    "    if(int_rate <= int_rate_25_quantile):\n",
    "        return \"LOW\"\n",
    "    if(int_rate > int_rate_25_quantile and int_rate <= int_rate_50_quantile):\n",
    "        return \"MEDIUM\"\n",
    "    if(int_rate > int_rate_50_quantile and int_rate <= int_rate_75_quantile):\n",
    "        return \"HIGH\"\n",
    "    return \"VERY HIGH\"\n",
    "\n",
    "df['int_rates_bucket'] = df.int_rate.apply(bin_int_rate)\n",
    "df.int_rate.describe()"
   ]
  },
  {
   "cell_type": "markdown",
   "id": "22a0b6b4",
   "metadata": {},
   "source": [
    "* A lot of folks are issued interest at ~8% and betwen (10 - 14.5)% \n",
    "* Very less people are issued interest between (8-10)%\n",
    "* 50% of foks are issued loan at interest rate ~11.5%"
   ]
  },
  {
   "cell_type": "code",
   "execution_count": 235,
   "id": "f974ddf4",
   "metadata": {},
   "outputs": [
    {
     "data": {
      "text/plain": [
       "4.158530769795518"
      ]
     },
     "execution_count": 235,
     "metadata": {},
     "output_type": "execute_result"
    }
   ],
   "source": [
    "df.dti.corr(df.defaulted)*100"
   ]
  },
  {
   "cell_type": "code",
   "execution_count": 236,
   "id": "aac87bbf",
   "metadata": {},
   "outputs": [
    {
     "data": {
      "text/plain": [
       "5.339187287714525"
      ]
     },
     "execution_count": 236,
     "metadata": {},
     "output_type": "execute_result"
    }
   ],
   "source": [
    "df.loan_amnt.corr(df.defaulted)*100"
   ]
  },
  {
   "cell_type": "code",
   "execution_count": 237,
   "id": "53ddfa62",
   "metadata": {},
   "outputs": [
    {
     "data": {
      "text/plain": [
       "-7.31"
      ]
     },
     "execution_count": 237,
     "metadata": {},
     "output_type": "execute_result"
    }
   ],
   "source": [
    "round(df.annual_inc.corr(df.defaulted)*100, 2)"
   ]
  },
  {
   "cell_type": "code",
   "execution_count": 238,
   "id": "62b51cb1",
   "metadata": {},
   "outputs": [
    {
     "data": {
      "text/plain": [
       "home_ownership  loan_status\n",
       "MORTGAGE        Charged Off    13.009427\n",
       "                Fully Paid      0.000000\n",
       "OTHER           Charged Off    19.318182\n",
       "                Fully Paid      0.000000\n",
       "OWN             Charged Off    13.744681\n",
       "                Fully Paid      0.000000\n",
       "RENT            Charged Off    14.534314\n",
       "                Fully Paid      0.000000\n",
       "Name: home_ownership_perc, dtype: float64"
      ]
     },
     "execution_count": 238,
     "metadata": {},
     "output_type": "execute_result"
    }
   ],
   "source": [
    "\n",
    "df['home_ownership_perc'] = (df.defaulted / df.groupby('home_ownership')['defaulted'].transform('count')) * 100\n",
    "df.groupby([\"home_ownership\", \"loan_status\"]).sum()['home_ownership_perc']"
   ]
  },
  {
   "cell_type": "code",
   "execution_count": 239,
   "id": "7ba01cf4",
   "metadata": {},
   "outputs": [
    {
     "data": {
      "text/plain": [
       "home_ownership\n",
       "MORTGAGE    11152.434735\n",
       "OTHER       10654.261364\n",
       "OWN          9471.648936\n",
       "RENT         9434.828431\n",
       "Name: loan_amnt, dtype: float64"
      ]
     },
     "execution_count": 239,
     "metadata": {},
     "output_type": "execute_result"
    }
   ],
   "source": [
    "df.groupby([\"home_ownership\"]).mean()['loan_amnt']"
   ]
  },
  {
   "cell_type": "markdown",
   "id": "67038324",
   "metadata": {},
   "source": [
    "### **An individual with home ownership status as \"OTHER\" has taken higher loan amount there is a very high tendency of their loan being \"Charged off\"**"
   ]
  },
  {
   "cell_type": "code",
   "execution_count": 240,
   "id": "d3c40547",
   "metadata": {},
   "outputs": [
    {
     "data": {
      "text/plain": [
       "<Axes: xlabel='loan_amnt_category', ylabel='annual_inc'>"
      ]
     },
     "execution_count": 240,
     "metadata": {},
     "output_type": "execute_result"
    },
    {
     "data": {
      "image/png": "[encoded data removed]",
      "text/plain": [
       "<Figure size 640x480 with 1 Axes>"
      ]
     },
     "metadata": {},
     "output_type": "display_data"
    }
   ],
   "source": [
    "sns.barplot(x = 'loan_amnt_category',\n",
    "            y = 'annual_inc',\n",
    "            data = df,\n",
    "            palette = \"Blues\")"
   ]
  },
  {
   "cell_type": "markdown",
   "id": "f1308354",
   "metadata": {},
   "source": [
    "### **The above plot suggests as an individual annual income increases his/her ask for loan amount also increases**"
   ]
  },
  {
   "cell_type": "code",
   "execution_count": 241,
   "id": "1e181647",
   "metadata": {},
   "outputs": [
    {
     "data": {
      "text/plain": [
       "verification_status  loan_status\n",
       "Not Verified         Charged Off    27.637497\n",
       "                     Fully Paid      0.000000\n",
       "Source Verified      Charged Off    12.579367\n",
       "                     Fully Paid      0.000000\n",
       "Verified             Charged Off    20.389739\n",
       "                     Fully Paid      0.000000\n",
       "Name: home_ownership_perc, dtype: float64"
      ]
     },
     "execution_count": 241,
     "metadata": {},
     "output_type": "execute_result"
    }
   ],
   "source": [
    "df['verification_status_perc'] = (df.defaulted / df.groupby('verification_status')['defaulted'].transform('count')) * 100\n",
    "df.groupby([\"verification_status\", \"loan_status\"]).sum()['home_ownership_perc']"
   ]
  },
  {
   "cell_type": "code",
   "execution_count": 242,
   "id": "a2f022d5",
   "metadata": {},
   "outputs": [
    {
     "data": {
      "text/plain": [
       "verification_status  loan_status\n",
       "Not Verified         Charged Off     7642.100424\n",
       "                     Fully Paid      7735.257787\n",
       "Source Verified      Charged Off     9280.867054\n",
       "                     Fully Paid      8731.068190\n",
       "Verified             Charged Off    13421.201291\n",
       "                     Fully Paid     12845.351054\n",
       "Name: funded_amnt_inv, dtype: float64"
      ]
     },
     "execution_count": 242,
     "metadata": {},
     "output_type": "execute_result"
    }
   ],
   "source": [
    "df.groupby([\"verification_status\", \"loan_status\"]).mean()['funded_amnt_inv']"
   ]
  },
  {
   "cell_type": "markdown",
   "id": "f103a3e3",
   "metadata": {},
   "source": [
    "### **An individual who is not verified has a very high tendency of their loan being \"Charged off\"**\n",
    "### **An individual who is verified is generally provided with a higher average loan amount**"
   ]
  },
  {
   "cell_type": "code",
   "execution_count": 243,
   "id": "d92cd15d",
   "metadata": {},
   "outputs": [
    {
     "data": {
      "text/plain": [
       "loan_amnt_category\n",
       "0-5300        1109\n",
       "5300-9600     1055\n",
       "9600-15000    1229\n",
       ">15000        1113\n",
       "Name: defaulted, dtype: int64"
      ]
     },
     "execution_count": 243,
     "metadata": {},
     "output_type": "execute_result"
    },
    {
     "data": {
      "image/png": "[encoded data removed]",
      "text/plain": [
       "<Figure size 640x480 with 1 Axes>"
      ]
     },
     "metadata": {},
     "output_type": "display_data"
    }
   ],
   "source": [
    "\n",
    "df.loan_amnt_category.value_counts().plot.bar()\n",
    "df.groupby([\"loan_amnt_category\"]).sum()[\"defaulted\"]"
   ]
  },
  {
   "cell_type": "markdown",
   "id": "20bc9146",
   "metadata": {},
   "source": [
    "### **Loan amount value is inversely proportional to amount of folks asking for that particular loan amount**"
   ]
  },
  {
   "cell_type": "code",
   "execution_count": 244,
   "id": "1d1a0897",
   "metadata": {},
   "outputs": [
    {
     "data": {
      "text/plain": [
       "annual_inc_category  loan_status\n",
       "0-40000              Charged Off    17.205570\n",
       "                     Fully Paid      0.000000\n",
       "40000-55400          Charged Off    14.592934\n",
       "                     Fully Paid      0.000000\n",
       "55400-75893          Charged Off    13.113544\n",
       "                     Fully Paid      0.000000\n",
       ">75893               Charged Off    10.352883\n",
       "                     Fully Paid      0.000000\n",
       "Name: annual_inc_category_perc, dtype: float64"
      ]
     },
     "execution_count": 244,
     "metadata": {},
     "output_type": "execute_result"
    }
   ],
   "source": [
    "df['annual_inc_category_perc'] = (df.defaulted / df.groupby('annual_inc_category')['defaulted'].transform('count')) * 100\n",
    "\n",
    "df.groupby([\"annual_inc_category\", \"loan_status\"]).sum()['annual_inc_category_perc']"
   ]
  },
  {
   "cell_type": "markdown",
   "id": "0c312ef0",
   "metadata": {},
   "source": [
    "#### **As the Annual income increases the tendency of some to default decreases**"
   ]
  },
  {
   "cell_type": "code",
   "execution_count": 245,
   "id": "b653403d",
   "metadata": {},
   "outputs": [
    {
     "data": {
      "text/plain": [
       "int_rates_bucket  loan_status\n",
       "HIGH              Charged Off    14.629723\n",
       "                  Fully Paid      0.000000\n",
       "LOW               Charged Off     5.123526\n",
       "                  Fully Paid      0.000000\n",
       "MEDIUM            Charged Off     9.910570\n",
       "                  Fully Paid      0.000000\n",
       "VERY HIGH         Charged Off    23.196589\n",
       "                  Fully Paid      0.000000\n",
       "Name: int_rates_bucket_perc, dtype: float64"
      ]
     },
     "execution_count": 245,
     "metadata": {},
     "output_type": "execute_result"
    }
   ],
   "source": [
    "df['int_rates_bucket_perc'] = (df.defaulted / df.groupby('int_rates_bucket')['defaulted'].transform('count')) * 100\n",
    "\n",
    "df.groupby([\"int_rates_bucket\", \"loan_status\"]).sum()['int_rates_bucket_perc']"
   ]
  },
  {
   "cell_type": "markdown",
   "id": "fc1220b3",
   "metadata": {},
   "source": [
    "#### **The higher the Interest rates higher are the chances of an individual to default on the loan which suggests there is a higher likelihood of loan getting defaulted when loan is disbursed with higher interest rates**"
   ]
  },
  {
   "cell_type": "code",
   "execution_count": 246,
   "id": "e71c80db",
   "metadata": {},
   "outputs": [
    {
     "data": {
      "text/plain": [
       "issue_y  loan_status\n",
       "2007     Charged Off    25.000000\n",
       "         Fully Paid      0.000000\n",
       "2008     Charged Off    15.169661\n",
       "         Fully Paid      0.000000\n",
       "2009     Charged Off    12.217732\n",
       "         Fully Paid      0.000000\n",
       "2010     Charged Off    12.241715\n",
       "         Fully Paid      0.000000\n",
       "2011     Charged Off    15.127379\n",
       "         Fully Paid      0.000000\n",
       "Name: issue_year_perc, dtype: float64"
      ]
     },
     "execution_count": 246,
     "metadata": {},
     "output_type": "execute_result"
    }
   ],
   "source": [
    "df['issue_year_perc'] = (df.defaulted / df.groupby('issue_y')['defaulted'].transform('count')) * 100\n",
    "\n",
    "df.groupby([\"issue_y\", \"loan_status\"]).sum()['issue_year_perc']"
   ]
  },
  {
   "cell_type": "markdown",
   "id": "0993150b",
   "metadata": {},
   "source": [
    "### **2007, followed by 2008 and 2011 experienced most number of people with charged off loans, the amount of fully paid loan also increased, This is probably as after effect of recession happened**"
   ]
  },
  {
   "cell_type": "code",
   "execution_count": 247,
   "id": "477fe968",
   "metadata": {},
   "outputs": [
    {
     "data": {
      "text/plain": [
       "annual_inc_category\n",
       "0-40000         7050.454331\n",
       "40000-55400     9628.184204\n",
       "55400-75893    11166.124370\n",
       ">75893         12939.146072\n",
       "Name: loan_amnt, dtype: float64"
      ]
     },
     "execution_count": 247,
     "metadata": {},
     "output_type": "execute_result"
    }
   ],
   "source": [
    "df.groupby([\"annual_inc_category\"]).mean()[\"loan_amnt\"]"
   ]
  },
  {
   "cell_type": "code",
   "execution_count": 248,
   "id": "e92f1e38",
   "metadata": {},
   "outputs": [
    {
     "data": {
      "text/plain": [
       "945xx    446\n",
       "112xx    440\n",
       "606xx    436\n",
       "100xx    434\n",
       "070xx    379\n",
       "        ... \n",
       "169xx      1\n",
       "332xx      1\n",
       "884xx      1\n",
       "461xx      1\n",
       "753xx      1\n",
       "Name: zip_code, Length: 799, dtype: int64"
      ]
     },
     "execution_count": 248,
     "metadata": {},
     "output_type": "execute_result"
    },
    {
     "data": {
      "image/png": "[encoded data removed]",
      "text/plain": [
       "<Figure size 640x480 with 1 Axes>"
      ]
     },
     "metadata": {},
     "output_type": "display_data"
    }
   ],
   "source": [
    "df.groupby([\"zip_code\"]).defaulted.count().plot()\n",
    "df.zip_code.value_counts()"
   ]
  },
  {
   "cell_type": "markdown",
   "id": "ac30ce9b",
   "metadata": {},
   "source": [
    "#### **Folks with zipcode ranging from 010xx-12xx, living around 338xx or 754xx, 622xx, 882xx-90xx have higher tendency of defaulting the loans**"
   ]
  },
  {
   "cell_type": "code",
   "execution_count": 249,
   "id": "d1bd3854",
   "metadata": {},
   "outputs": [
    {
     "data": {
      "text/plain": [
       "pub_rec_bankruptcies  loan_status\n",
       "0.0                   Charged Off    13.520629\n",
       "                      Fully Paid      0.000000\n",
       "1.0                   Charged Off    20.958512\n",
       "                      Fully Paid      0.000000\n",
       "2.0                   Charged Off    40.000000\n",
       "                      Fully Paid      0.000000\n",
       "Name: pub_rec_bankruptcies_defaulted_perc, dtype: float64"
      ]
     },
     "execution_count": 249,
     "metadata": {},
     "output_type": "execute_result"
    }
   ],
   "source": [
    "df['pub_rec_bankruptcies_defaulted_perc'] = df['defaulted'] / df.groupby('pub_rec_bankruptcies')['defaulted'].transform('count')\n",
    "\n",
    "pub_rec_bankruptcies_loan_status_group = df.groupby([\"pub_rec_bankruptcies\", \"loan_status\"]).pub_rec_bankruptcies_defaulted_perc.sum()\n",
    "pub_rec_bankruptcies_loan_status_group.groupby(level=0).apply(lambda x: 100 * x) \n"
   ]
  },
  {
   "cell_type": "markdown",
   "id": "d9e5c7a7",
   "metadata": {},
   "source": [
    "### **As the publicly recorded bankcruptcies increases the Charge off/Defaulting percentage of an individual also increases which suggests there is a higher likelihood of loan getting defaulted when loan is disbursed to individual with higher publicly recorded bankruptices although we dont have a lot entries for individual with 2 publicly recorded bankruptcies**"
   ]
  },
  {
   "cell_type": "code",
   "execution_count": 250,
   "id": "70296adf",
   "metadata": {},
   "outputs": [
    {
     "data": {
      "text/plain": [
       "dti_bucket  loan_status\n",
       "HIGH        Charged Off     433\n",
       "            Fully Paid     2508\n",
       "LOW         Charged Off    1002\n",
       "            Fully Paid     6619\n",
       "MEDIUM      Charged Off     960\n",
       "            Fully Paid     5666\n",
       "VERY HIGH   Charged Off    1240\n",
       "            Fully Paid     6630\n",
       "VERY LOW    Charged Off     871\n",
       "            Fully Paid     6619\n",
       "Name: defaulted, dtype: int64"
      ]
     },
     "execution_count": 250,
     "metadata": {},
     "output_type": "execute_result"
    }
   ],
   "source": [
    "df.groupby([\"dti_bucket\", \"loan_status\"]).defaulted.count()\n"
   ]
  },
  {
   "cell_type": "code",
   "execution_count": 251,
   "id": "c7ff7218",
   "metadata": {},
   "outputs": [
    {
     "data": {
      "text/plain": [
       "dti_bucket  loan_status\n",
       "HIGH        Charged Off    14.722883\n",
       "            Fully Paid      0.000000\n",
       "LOW         Charged Off    13.147881\n",
       "            Fully Paid      0.000000\n",
       "MEDIUM      Charged Off    14.488379\n",
       "            Fully Paid      0.000000\n",
       "VERY HIGH   Charged Off    15.756036\n",
       "            Fully Paid      0.000000\n",
       "VERY LOW    Charged Off    11.628838\n",
       "            Fully Paid      0.000000\n",
       "Name: dti_defaulted_perc, dtype: float64"
      ]
     },
     "execution_count": 251,
     "metadata": {},
     "output_type": "execute_result"
    }
   ],
   "source": [
    "# Calculate pecentage of Charged off and fully paid grouped by Grade\n",
    "df['dti_defaulted_perc'] = df['defaulted'] / df.groupby('dti_bucket')['defaulted'].transform('count')\n",
    "\n",
    "dti_loan_status_group = df.groupby([\"dti_bucket\", \"loan_status\"]).dti_defaulted_perc.sum()\n",
    "dti_loan_status_group.groupby(level=0).apply(lambda x: 100 * x) "
   ]
  },
  {
   "cell_type": "markdown",
   "id": "e9f3584e",
   "metadata": {},
   "source": [
    "### **As the dti keeps on increasing the Charge off percentage which suggests there is a higher likelihood of loan getting defaulted when loan is disbursed to individual with higher dti**"
   ]
  },
  {
   "cell_type": "code",
   "execution_count": 252,
   "id": "ae9b9f2a",
   "metadata": {},
   "outputs": [
    {
     "data": {
      "text/plain": [
       "grade  sub_grade  loan_status\n",
       "A      A1         Charged Off     2.383420\n",
       "                  Fully Paid      0.000000\n",
       "       A2         Charged Off     4.798762\n",
       "                  Fully Paid      0.000000\n",
       "       A3         Charged Off     5.035054\n",
       "                  Fully Paid      0.000000\n",
       "       A4         Charged Off     6.084868\n",
       "                  Fully Paid      0.000000\n",
       "       A5         Charged Off     7.885763\n",
       "                  Fully Paid      0.000000\n",
       "B      B1         Charged Off     8.965063\n",
       "                  Fully Paid      0.000000\n",
       "       B2         Charged Off    10.504933\n",
       "                  Fully Paid      0.000000\n",
       "       B3         Charged Off    11.799410\n",
       "                  Fully Paid      0.000000\n",
       "       B4         Charged Off    12.719506\n",
       "                  Fully Paid      0.000000\n",
       "       B5         Charged Off    13.876652\n",
       "                  Fully Paid      0.000000\n",
       "C      C1         Charged Off    15.340584\n",
       "                  Fully Paid      0.000000\n",
       "       C2         Charged Off    16.123188\n",
       "                  Fully Paid      0.000000\n",
       "       C3         Charged Off    17.826427\n",
       "                  Fully Paid      0.000000\n",
       "       C4         Charged Off    17.082534\n",
       "                  Fully Paid      0.000000\n",
       "       C5         Charged Off    17.773238\n",
       "                  Fully Paid      0.000000\n",
       "D      D1         Charged Off    16.751269\n",
       "                  Fully Paid      0.000000\n",
       "       D2         Charged Off    20.473157\n",
       "                  Fully Paid      0.000000\n",
       "       D3         Charged Off    21.762208\n",
       "                  Fully Paid      0.000000\n",
       "       D4         Charged Off    23.046875\n",
       "                  Fully Paid      0.000000\n",
       "       D5         Charged Off    24.599709\n",
       "                  Fully Paid      0.000000\n",
       "E      E1         Charged Off    26.562500\n",
       "                  Fully Paid      0.000000\n",
       "       E2         Charged Off    25.469729\n",
       "                  Fully Paid      0.000000\n",
       "       E3         Charged Off    22.305764\n",
       "                  Fully Paid      0.000000\n",
       "       E4         Charged Off    29.483283\n",
       "                  Fully Paid      0.000000\n",
       "       E5         Charged Off    28.800000\n",
       "                  Fully Paid      0.000000\n",
       "F      F1         Charged Off    27.074236\n",
       "                  Fully Paid      0.000000\n",
       "       F2         Charged Off    29.479769\n",
       "                  Fully Paid      0.000000\n",
       "       F3         Charged Off    29.687500\n",
       "                  Fully Paid      0.000000\n",
       "       F4         Charged Off    32.142857\n",
       "                  Fully Paid      0.000000\n",
       "       F5         Charged Off    47.540984\n",
       "                  Fully Paid      0.000000\n",
       "G      G1         Charged Off    27.118644\n",
       "                  Fully Paid      0.000000\n",
       "       G2         Charged Off    35.000000\n",
       "                  Fully Paid      0.000000\n",
       "       G3         Charged Off    41.666667\n",
       "                  Fully Paid      0.000000\n",
       "       G4         Charged Off    25.000000\n",
       "                  Fully Paid      0.000000\n",
       "       G5         Charged Off    42.857143\n",
       "                  Fully Paid      0.000000\n",
       "Name: grade_defaulted_perc, dtype: float64"
      ]
     },
     "execution_count": 252,
     "metadata": {},
     "output_type": "execute_result"
    }
   ],
   "source": [
    "df['grade_defaulted_perc'] = (df['defaulted'] / df.groupby([\"grade\", \"sub_grade\"])['defaulted'].transform('count'))*100\n",
    "\n",
    "df.groupby([\"grade\", \"sub_grade\", \"loan_status\"]).grade_defaulted_perc.sum()"
   ]
  },
  {
   "cell_type": "markdown",
   "id": "df098a07",
   "metadata": {},
   "source": [
    "### **When grouped by grade, subgrades, It's found that as we move to lower grades the Charge off proportions keeps on increasing which suggests there is higher chance of loans being defaulted when disbursed to individual with lower employment grades**"
   ]
  }
 ],
 "metadata": {
  "interpreter": {
   "hash": "b60e7a3c718dd1fe3fcb1d3ce8a988d20048863632a5336c9eb91893e659af97"
  },
  "kernelspec": {
   "display_name": "Python 3.11.4",
   "language": "python",
   "name": "python3"
  },
  "language_info": {
   "codemirror_mode": {
    "name": "ipython",
    "version": 3
   },
   "file_extension": ".py",
   "mimetype": "text/x-python",
   "name": "python",
   "nbconvert_exporter": "python",
   "pygments_lexer": "ipython3",
   "version": "3.11.4"
  }
 },
 "nbformat": 4,
 "nbformat_minor": 5
}
